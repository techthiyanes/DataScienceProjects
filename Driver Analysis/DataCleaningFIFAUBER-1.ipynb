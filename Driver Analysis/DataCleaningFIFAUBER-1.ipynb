{
 "cells": [
  {
   "cell_type": "code",
   "execution_count": 62,
   "metadata": {},
   "outputs": [],
   "source": [
    "import pandas as pd\n",
    "\n",
    "import numpy as np\n",
    "\n",
    "import seaborn as sns\n",
    "\n",
    "import matplotlib.pyplot as plt\n",
    "\n",
    "from array import array\n",
    "\n",
    "import string"
   ]
  },
  {
   "cell_type": "code",
   "execution_count": 63,
   "metadata": {},
   "outputs": [
    {
     "name": "stdout",
     "output_type": "stream",
     "text": [
      "       ID               Name  Age  \\\n",
      "0  158023           L. Messi   31   \n",
      "1   20801  Cristiano Ronaldo   33   \n",
      "2  190871          Neymar Jr   26   \n",
      "3  193080             De Gea   27   \n",
      "4  192985       K. De Bruyne   27   \n",
      "\n",
      "                                            Photo Nationality  \\\n",
      "0  https://cdn.sofifa.org/players/4/19/158023.png   Argentina   \n",
      "1   https://cdn.sofifa.org/players/4/19/20801.png    Portugal   \n",
      "2  https://cdn.sofifa.org/players/4/19/190871.png      Brazil   \n",
      "3  https://cdn.sofifa.org/players/4/19/193080.png       Spain   \n",
      "4  https://cdn.sofifa.org/players/4/19/192985.png     Belgium   \n",
      "\n",
      "                                  Flag  Overall  Potential  \\\n",
      "0  https://cdn.sofifa.org/flags/52.png       94         94   \n",
      "1  https://cdn.sofifa.org/flags/38.png       94         94   \n",
      "2  https://cdn.sofifa.org/flags/54.png       92         93   \n",
      "3  https://cdn.sofifa.org/flags/45.png       91         93   \n",
      "4   https://cdn.sofifa.org/flags/7.png       91         92   \n",
      "\n",
      "                  Club                                     Club Logo  ...  \\\n",
      "0         FC Barcelona  https://cdn.sofifa.org/teams/2/light/241.png  ...   \n",
      "1             Juventus   https://cdn.sofifa.org/teams/2/light/45.png  ...   \n",
      "2  Paris Saint-Germain   https://cdn.sofifa.org/teams/2/light/73.png  ...   \n",
      "3    Manchester United   https://cdn.sofifa.org/teams/2/light/11.png  ...   \n",
      "4      Manchester City   https://cdn.sofifa.org/teams/2/light/10.png  ...   \n",
      "\n",
      "  Composure Marking StandingTackle  SlidingTackle  GKDiving  GKHandling  \\\n",
      "0      96.0    33.0           28.0           26.0       6.0        11.0   \n",
      "1      95.0    28.0           31.0           23.0       7.0        11.0   \n",
      "2      94.0    27.0           24.0           33.0       9.0         9.0   \n",
      "3      68.0    15.0           21.0           13.0      90.0        85.0   \n",
      "4      88.0    68.0           58.0           51.0      15.0        13.0   \n",
      "\n",
      "  GKKicking GKPositioning GKReflexes  Release Clause  \n",
      "0      15.0          14.0        8.0         €226.5M  \n",
      "1      15.0          14.0       11.0         €127.1M  \n",
      "2      15.0          15.0       11.0         €228.1M  \n",
      "3      87.0          88.0       94.0         €138.6M  \n",
      "4       5.0          10.0       13.0         €196.4M  \n",
      "\n",
      "[5 rows x 60 columns]\n"
     ]
    }
   ],
   "source": [
    "auto = pd.read_csv('D:/GL/fifa.csv')\n",
    "print(auto.head(5))"
   ]
  },
  {
   "cell_type": "code",
   "execution_count": 64,
   "metadata": {},
   "outputs": [
    {
     "name": "stdout",
     "output_type": "stream",
     "text": [
      "       ID               Name  Age  \\\n",
      "0  158023           L. Messi   31   \n",
      "1   20801  Cristiano Ronaldo   33   \n",
      "2  190871          Neymar Jr   26   \n",
      "3  193080             De Gea   27   \n",
      "4  192985       K. De Bruyne   27   \n",
      "\n",
      "                                            Photo Nationality  \\\n",
      "0  https://cdn.sofifa.org/players/4/19/158023.png   Argentina   \n",
      "1   https://cdn.sofifa.org/players/4/19/20801.png    Portugal   \n",
      "2  https://cdn.sofifa.org/players/4/19/190871.png      Brazil   \n",
      "3  https://cdn.sofifa.org/players/4/19/193080.png       Spain   \n",
      "4  https://cdn.sofifa.org/players/4/19/192985.png     Belgium   \n",
      "\n",
      "                                  Flag  Overall  Potential  \\\n",
      "0  https://cdn.sofifa.org/flags/52.png       94         94   \n",
      "1  https://cdn.sofifa.org/flags/38.png       94         94   \n",
      "2  https://cdn.sofifa.org/flags/54.png       92         93   \n",
      "3  https://cdn.sofifa.org/flags/45.png       91         93   \n",
      "4   https://cdn.sofifa.org/flags/7.png       91         92   \n",
      "\n",
      "                  Club                                     Club Logo  ...  \\\n",
      "0         FC Barcelona  https://cdn.sofifa.org/teams/2/light/241.png  ...   \n",
      "1             Juventus   https://cdn.sofifa.org/teams/2/light/45.png  ...   \n",
      "2  Paris Saint-Germain   https://cdn.sofifa.org/teams/2/light/73.png  ...   \n",
      "3    Manchester United   https://cdn.sofifa.org/teams/2/light/11.png  ...   \n",
      "4      Manchester City   https://cdn.sofifa.org/teams/2/light/10.png  ...   \n",
      "\n",
      "  Composure Marking StandingTackle  SlidingTackle  GKDiving  GKHandling  \\\n",
      "0      96.0    33.0           28.0           26.0       6.0        11.0   \n",
      "1      95.0    28.0           31.0           23.0       7.0        11.0   \n",
      "2      94.0    27.0           24.0           33.0       9.0         9.0   \n",
      "3      68.0    15.0           21.0           13.0      90.0        85.0   \n",
      "4      88.0    68.0           58.0           51.0      15.0        13.0   \n",
      "\n",
      "  GKKicking GKPositioning GKReflexes  Release Clause  \n",
      "0      15.0          14.0        8.0          226.5M  \n",
      "1      15.0          14.0       11.0          127.1M  \n",
      "2      15.0          15.0       11.0          228.1M  \n",
      "3      87.0          88.0       94.0          138.6M  \n",
      "4       5.0          10.0       13.0          196.4M  \n",
      "\n",
      "[5 rows x 60 columns]\n",
      "0    110.5M\n",
      "1       77M\n",
      "2    118.5M\n",
      "3       72M\n",
      "4      102M\n",
      "Name: Value, dtype: object\n"
     ]
    }
   ],
   "source": [
    "auto=auto.replace('\\u20AC','',regex=True)\n",
    "print(auto.head(5))\n",
    "print(auto['Value'].head(5))"
   ]
  },
  {
   "cell_type": "code",
   "execution_count": 65,
   "metadata": {},
   "outputs": [
    {
     "name": "stdout",
     "output_type": "stream",
     "text": [
      "0    110500000\n",
      "1     77000000\n",
      "2    118500000\n",
      "3     72000000\n",
      "4    102000000\n",
      "Name: Value, dtype: int32\n",
      "0    565000\n",
      "1    405000\n",
      "2    290000\n",
      "3    260000\n",
      "4    355000\n",
      "Name: Wage, dtype: int32\n"
     ]
    }
   ],
   "source": [
    "#Working ones\n",
    "auto['Value']=auto['Value'].replace({'K': '*1e3', 'M': '*1e6'}, regex=True).map(pd.eval).astype(int)\n",
    "print(auto['Value'].head(5))\n",
    "\n",
    "auto['Wage']=auto['Wage'].replace({'K': '*1e3', 'M': '*1e6'}, regex=True).map(pd.eval).astype(int)\n",
    "print(auto['Wage'].head(5))\n",
    "\n"
   ]
  },
  {
   "cell_type": "code",
   "execution_count": 66,
   "metadata": {},
   "outputs": [
    {
     "name": "stdout",
     "output_type": "stream",
     "text": [
      "0    226500000\n",
      "1    127100000\n",
      "2    228100000\n",
      "3    138600000\n",
      "4    196400000\n",
      "Name: Release Clause, dtype: int32\n"
     ]
    }
   ],
   "source": [
    "auto['Release Clause'].fillna(0, inplace = True) \n",
    "auto['Release Clause']=auto['Release Clause'].replace({'K': '*1e3', 'M': '*1e6'}, regex=True).map(pd.eval).astype(int)\n",
    "print(auto['Release Clause'].head(5))\n",
    "# print(auto['Release Clause'].dtype)"
   ]
  },
  {
   "cell_type": "code",
   "execution_count": 50,
   "metadata": {},
   "outputs": [
    {
     "name": "stdout",
     "output_type": "stream",
     "text": [
      "0    159\n",
      "1    183\n",
      "2    150\n",
      "3    168\n",
      "4    154\n",
      "Name: Weight, dtype: int32\n"
     ]
    }
   ],
   "source": [
    "auto['Weight'].fillna(0, inplace = True)\n",
    "auto['Weight']=auto['Weight'].replace({'K': '*1e3', 'M': '*1e6','lbs':''}, regex=True).map(pd.eval).astype(int)\n",
    "print(auto['Weight'].head(5))"
   ]
  },
  {
   "cell_type": "code",
   "execution_count": 67,
   "metadata": {},
   "outputs": [
    {
     "name": "stdout",
     "output_type": "stream",
     "text": [
      "0    5.70\n",
      "1    6.20\n",
      "2    5.90\n",
      "3    6.40\n",
      "4    5.11\n",
      "Name: Height, dtype: float64\n"
     ]
    }
   ],
   "source": [
    "auto['Height'].fillna(0, inplace = True)\n",
    "auto['Height']=auto['Height'].replace({'K': '*1e3', 'M': '*1e6','lbs':'',\"'\":\".\"}, regex=True).map(pd.eval).astype(float)\n",
    "print(auto['Height'].head(5))"
   ]
  },
  {
   "cell_type": "code",
   "execution_count": 68,
   "metadata": {},
   "outputs": [
    {
     "name": "stdout",
     "output_type": "stream",
     "text": [
      "<class 'pandas.core.frame.DataFrame'>\n",
      "RangeIndex: 18207 entries, 0 to 18206\n",
      "Data columns (total 60 columns):\n",
      "ID                          18207 non-null int64\n",
      "Name                        18207 non-null object\n",
      "Age                         18207 non-null int64\n",
      "Photo                       18207 non-null object\n",
      "Nationality                 18207 non-null object\n",
      "Flag                        18207 non-null object\n",
      "Overall                     18207 non-null int64\n",
      "Potential                   18207 non-null int64\n",
      "Club                        17966 non-null object\n",
      "Club Logo                   18207 non-null object\n",
      "Value                       18207 non-null int32\n",
      "Wage                        18207 non-null int32\n",
      "Preferred Foot              18159 non-null object\n",
      "International Reputation    18159 non-null float64\n",
      "Weak Foot                   18159 non-null float64\n",
      "Skill Moves                 18159 non-null float64\n",
      "Work Rate                   18159 non-null object\n",
      "Body Type                   18159 non-null object\n",
      "Position                    18147 non-null object\n",
      "Jersey Number               18147 non-null float64\n",
      "Joined                      16654 non-null object\n",
      "Loaned From                 1264 non-null object\n",
      "Contract Valid Until        17918 non-null object\n",
      "Height                      18207 non-null float64\n",
      "Weight                      18159 non-null object\n",
      "Crossing                    18159 non-null float64\n",
      "Finishing                   18159 non-null float64\n",
      "HeadingAccuracy             18159 non-null float64\n",
      "ShortPassing                18159 non-null float64\n",
      "Volleys                     18159 non-null float64\n",
      "Dribbling                   18159 non-null float64\n",
      "Curve                       18159 non-null float64\n",
      "FKAccuracy                  18159 non-null float64\n",
      "LongPassing                 18159 non-null float64\n",
      "BallControl                 18159 non-null float64\n",
      "Acceleration                18159 non-null float64\n",
      "SprintSpeed                 18159 non-null float64\n",
      "Agility                     18159 non-null float64\n",
      "Reactions                   18159 non-null float64\n",
      "Balance                     18159 non-null float64\n",
      "ShotPower                   18159 non-null float64\n",
      "Jumping                     18159 non-null float64\n",
      "Stamina                     18159 non-null float64\n",
      "Strength                    18159 non-null float64\n",
      "LongShots                   18159 non-null float64\n",
      "Aggression                  18159 non-null float64\n",
      "Interceptions               18159 non-null float64\n",
      "Positioning                 18159 non-null float64\n",
      "Vision                      18159 non-null float64\n",
      "Penalties                   18159 non-null float64\n",
      "Composure                   18159 non-null float64\n",
      "Marking                     18159 non-null float64\n",
      "StandingTackle              18159 non-null float64\n",
      "SlidingTackle               18159 non-null float64\n",
      "GKDiving                    18159 non-null float64\n",
      "GKHandling                  18159 non-null float64\n",
      "GKKicking                   18159 non-null float64\n",
      "GKPositioning               18159 non-null float64\n",
      "GKReflexes                  18159 non-null float64\n",
      "Release Clause              18207 non-null int32\n",
      "dtypes: float64(39), int32(3), int64(4), object(14)\n",
      "memory usage: 8.1+ MB\n",
      "None\n"
     ]
    }
   ],
   "source": [
    "print(auto.info())"
   ]
  },
  {
   "cell_type": "code",
   "execution_count": 69,
   "metadata": {},
   "outputs": [
    {
     "name": "stdout",
     "output_type": "stream",
     "text": [
      "<class 'pandas.core.frame.DataFrame'>\n",
      "RangeIndex: 18207 entries, 0 to 18206\n",
      "Data columns (total 60 columns):\n",
      "ID                          18207 non-null int64\n",
      "Name                        18207 non-null object\n",
      "Age                         18207 non-null int64\n",
      "Photo                       18207 non-null object\n",
      "Nationality                 18207 non-null object\n",
      "Flag                        18207 non-null object\n",
      "Overall                     18207 non-null int64\n",
      "Potential                   18207 non-null int64\n",
      "Club                        17966 non-null object\n",
      "Club Logo                   18207 non-null object\n",
      "Value                       18207 non-null int32\n",
      "Wage                        18207 non-null int32\n",
      "Preferred Foot              18159 non-null object\n",
      "International Reputation    18159 non-null float64\n",
      "Weak Foot                   18159 non-null float64\n",
      "Skill Moves                 18159 non-null float64\n",
      "Work Rate                   18159 non-null object\n",
      "Body Type                   18159 non-null object\n",
      "Position                    18147 non-null object\n",
      "Jersey Number               18147 non-null float64\n",
      "Joined                      16654 non-null datetime64[ns]\n",
      "Loaned From                 1264 non-null object\n",
      "Contract Valid Until        17918 non-null object\n",
      "Height                      18207 non-null float64\n",
      "Weight                      18159 non-null object\n",
      "Crossing                    18159 non-null float64\n",
      "Finishing                   18159 non-null float64\n",
      "HeadingAccuracy             18159 non-null float64\n",
      "ShortPassing                18159 non-null float64\n",
      "Volleys                     18159 non-null float64\n",
      "Dribbling                   18159 non-null float64\n",
      "Curve                       18159 non-null float64\n",
      "FKAccuracy                  18159 non-null float64\n",
      "LongPassing                 18159 non-null float64\n",
      "BallControl                 18159 non-null float64\n",
      "Acceleration                18159 non-null float64\n",
      "SprintSpeed                 18159 non-null float64\n",
      "Agility                     18159 non-null float64\n",
      "Reactions                   18159 non-null float64\n",
      "Balance                     18159 non-null float64\n",
      "ShotPower                   18159 non-null float64\n",
      "Jumping                     18159 non-null float64\n",
      "Stamina                     18159 non-null float64\n",
      "Strength                    18159 non-null float64\n",
      "LongShots                   18159 non-null float64\n",
      "Aggression                  18159 non-null float64\n",
      "Interceptions               18159 non-null float64\n",
      "Positioning                 18159 non-null float64\n",
      "Vision                      18159 non-null float64\n",
      "Penalties                   18159 non-null float64\n",
      "Composure                   18159 non-null float64\n",
      "Marking                     18159 non-null float64\n",
      "StandingTackle              18159 non-null float64\n",
      "SlidingTackle               18159 non-null float64\n",
      "GKDiving                    18159 non-null float64\n",
      "GKHandling                  18159 non-null float64\n",
      "GKKicking                   18159 non-null float64\n",
      "GKPositioning               18159 non-null float64\n",
      "GKReflexes                  18159 non-null float64\n",
      "Release Clause              18207 non-null int32\n",
      "dtypes: datetime64[ns](1), float64(39), int32(3), int64(4), object(13)\n",
      "memory usage: 8.1+ MB\n",
      "None\n"
     ]
    }
   ],
   "source": [
    "auto[\"Joined\"]= pd.to_datetime(auto[\"Joined\"])\n",
    "print(auto.info())"
   ]
  },
  {
   "cell_type": "code",
   "execution_count": 70,
   "metadata": {},
   "outputs": [
    {
     "name": "stdout",
     "output_type": "stream",
     "text": [
      "0   2004-07-01\n",
      "1   2018-07-10\n",
      "2   2017-08-03\n",
      "3   2011-07-01\n",
      "4   2015-08-30\n",
      "Name: Joined, dtype: datetime64[ns]\n"
     ]
    }
   ],
   "source": [
    "print(auto[\"Joined\"].head(5))"
   ]
  },
  {
   "cell_type": "code",
   "execution_count": 71,
   "metadata": {},
   "outputs": [],
   "source": [
    "auto['Joinedyear'] = auto[\"Joined\"].dt.year\n",
    "auto['Joinedmonth'] = auto[\"Joined\"].dt.month\n",
    "auto['JoinedDay'] = auto[\"Joined\"].dt.day"
   ]
  },
  {
   "cell_type": "code",
   "execution_count": 72,
   "metadata": {},
   "outputs": [
    {
     "name": "stdout",
     "output_type": "stream",
     "text": [
      "0     1.0\n",
      "1    10.0\n",
      "2     3.0\n",
      "3     1.0\n",
      "4    30.0\n",
      "Name: JoinedDay, dtype: float64\n"
     ]
    }
   ],
   "source": [
    "print(auto['JoinedDay'].head())"
   ]
  },
  {
   "cell_type": "code",
   "execution_count": 73,
   "metadata": {},
   "outputs": [
    {
     "name": "stdout",
     "output_type": "stream",
     "text": [
      "<class 'pandas.core.frame.DataFrame'>\n",
      "RangeIndex: 18207 entries, 0 to 18206\n",
      "Data columns (total 63 columns):\n",
      "ID                          18207 non-null int64\n",
      "Name                        18207 non-null object\n",
      "Age                         18207 non-null int64\n",
      "Photo                       18207 non-null object\n",
      "Nationality                 18207 non-null object\n",
      "Flag                        18207 non-null object\n",
      "Overall                     18207 non-null int64\n",
      "Potential                   18207 non-null int64\n",
      "Club                        17966 non-null object\n",
      "Club Logo                   18207 non-null object\n",
      "Value                       18207 non-null int32\n",
      "Wage                        18207 non-null int32\n",
      "Preferred Foot              18159 non-null object\n",
      "International Reputation    18159 non-null float64\n",
      "Weak Foot                   18159 non-null float64\n",
      "Skill Moves                 18159 non-null float64\n",
      "Work Rate                   18159 non-null object\n",
      "Body Type                   18159 non-null object\n",
      "Position                    18147 non-null object\n",
      "Jersey Number               18147 non-null float64\n",
      "Joined                      16654 non-null datetime64[ns]\n",
      "Loaned From                 1264 non-null object\n",
      "Contract Valid Until        17918 non-null object\n",
      "Height                      18207 non-null float64\n",
      "Weight                      18159 non-null object\n",
      "Crossing                    18159 non-null float64\n",
      "Finishing                   18159 non-null float64\n",
      "HeadingAccuracy             18159 non-null float64\n",
      "ShortPassing                18159 non-null float64\n",
      "Volleys                     18159 non-null float64\n",
      "Dribbling                   18159 non-null float64\n",
      "Curve                       18159 non-null float64\n",
      "FKAccuracy                  18159 non-null float64\n",
      "LongPassing                 18159 non-null float64\n",
      "BallControl                 18159 non-null float64\n",
      "Acceleration                18159 non-null float64\n",
      "SprintSpeed                 18159 non-null float64\n",
      "Agility                     18159 non-null float64\n",
      "Reactions                   18159 non-null float64\n",
      "Balance                     18159 non-null float64\n",
      "ShotPower                   18159 non-null float64\n",
      "Jumping                     18159 non-null float64\n",
      "Stamina                     18159 non-null float64\n",
      "Strength                    18159 non-null float64\n",
      "LongShots                   18159 non-null float64\n",
      "Aggression                  18159 non-null float64\n",
      "Interceptions               18159 non-null float64\n",
      "Positioning                 18159 non-null float64\n",
      "Vision                      18159 non-null float64\n",
      "Penalties                   18159 non-null float64\n",
      "Composure                   18159 non-null float64\n",
      "Marking                     18159 non-null float64\n",
      "StandingTackle              18159 non-null float64\n",
      "SlidingTackle               18159 non-null float64\n",
      "GKDiving                    18159 non-null float64\n",
      "GKHandling                  18159 non-null float64\n",
      "GKKicking                   18159 non-null float64\n",
      "GKPositioning               18159 non-null float64\n",
      "GKReflexes                  18159 non-null float64\n",
      "Release Clause              18207 non-null int32\n",
      "Joinedyear                  16654 non-null float64\n",
      "Joinedmonth                 16654 non-null float64\n",
      "JoinedDay                   16654 non-null float64\n",
      "dtypes: datetime64[ns](1), float64(42), int32(3), int64(4), object(13)\n",
      "memory usage: 8.5+ MB\n",
      "None\n"
     ]
    }
   ],
   "source": [
    "print(auto.info())"
   ]
  },
  {
   "cell_type": "code",
   "execution_count": 98,
   "metadata": {},
   "outputs": [
    {
     "name": "stdout",
     "output_type": "stream",
     "text": [
      "      START_DATE*       END_DATE* CATEGORY*       START*            STOP*  \\\n",
      "0  1/1/2016 21:11  1/1/2016 21:17  Business  Fort Pierce      Fort Pierce   \n",
      "1   1/2/2016 1:25   1/2/2016 1:37  Business  Fort Pierce      Fort Pierce   \n",
      "2  1/2/2016 20:25  1/2/2016 20:38  Business  Fort Pierce      Fort Pierce   \n",
      "3  1/5/2016 17:31  1/5/2016 17:45  Business  Fort Pierce      Fort Pierce   \n",
      "4  1/6/2016 14:42  1/6/2016 15:49  Business  Fort Pierce  West Palm Beach   \n",
      "\n",
      "   MILES*         PURPOSE* MONTH OF TRIP*  DAY OF TRIP*  MONTH INDEX*  \n",
      "0     5.1   Meal/Entertain        January           1.0           1.0  \n",
      "1     5.0              NaN        January           2.0           1.0  \n",
      "2     4.8  Errand/Supplies        January           2.0           1.0  \n",
      "3     4.7          Meeting        January           5.0           1.0  \n",
      "4    63.7   Customer Visit        January           6.0           1.0  \n"
     ]
    }
   ],
   "source": [
    "uber = pd.read_csv('D:/GL/uberdrive.csv')\n",
    "print(uber.head(5))"
   ]
  },
  {
   "cell_type": "code",
   "execution_count": 99,
   "metadata": {},
   "outputs": [
    {
     "name": "stdout",
     "output_type": "stream",
     "text": [
      "<class 'pandas.core.frame.DataFrame'>\n",
      "RangeIndex: 1156 entries, 0 to 1155\n",
      "Data columns (total 10 columns):\n",
      "START_DATE*       1155 non-null datetime64[ns]\n",
      "END_DATE*         1155 non-null object\n",
      "CATEGORY*         1155 non-null object\n",
      "START*            1155 non-null object\n",
      "STOP*             1155 non-null object\n",
      "MILES*            1156 non-null float64\n",
      "PURPOSE*          653 non-null object\n",
      "MONTH OF TRIP*    1155 non-null object\n",
      "DAY OF TRIP*      1155 non-null float64\n",
      "MONTH INDEX*      1155 non-null float64\n",
      "dtypes: datetime64[ns](1), float64(3), object(6)\n",
      "memory usage: 90.4+ KB\n",
      "None\n"
     ]
    }
   ],
   "source": [
    "# uber[\"START_DATE*\"]= pd.to_datetime(uber[\"START_DATE*\"],format='%m/%d/%Y %H:%M.%f')\n",
    "# uber[\"START_DATE*\"] = pd.to_datetime(uber[\"START_DATE*\"], format='%m/%d/%Y %H:%M').dt.strftime('%Y-%m-%d %H:%M')\n",
    "#Working One\n",
    "# uber[\"START_DATE*\"] = pd.to_datetime(uber[\"START_DATE*\"],errors='coerce', format='%m/%d/%Y %H:%M').dt.strftime('%Y-%m-%d %H:%M')\n",
    "uber[\"START_DATE*\"] = pd.to_datetime(uber[\"START_DATE*\"],errors='coerce', format='%m/%d/%Y %H:%M')\n",
    "print(uber.info())"
   ]
  },
  {
   "cell_type": "code",
   "execution_count": 102,
   "metadata": {},
   "outputs": [
    {
     "name": "stdout",
     "output_type": "stream",
     "text": [
      "<class 'pandas.core.frame.DataFrame'>\n",
      "RangeIndex: 1156 entries, 0 to 1155\n",
      "Data columns (total 15 columns):\n",
      "START_DATE*          1155 non-null datetime64[ns]\n",
      "END_DATE*            1155 non-null object\n",
      "CATEGORY*            1155 non-null object\n",
      "START*               1155 non-null object\n",
      "STOP*                1155 non-null object\n",
      "MILES*               1156 non-null float64\n",
      "PURPOSE*             653 non-null object\n",
      "MONTH OF TRIP*       1155 non-null object\n",
      "DAY OF TRIP*         1155 non-null float64\n",
      "MONTH INDEX*         1155 non-null float64\n",
      "TRIP_START_DAY       1155 non-null float64\n",
      "TRIP_START_DATE      1155 non-null object\n",
      "TRIP_START_YEAR      1155 non-null float64\n",
      "TRIP_START_HOUR      1155 non-null float64\n",
      "TRIP_START_MINUTE    1155 non-null float64\n",
      "dtypes: datetime64[ns](1), float64(7), object(7)\n",
      "memory usage: 135.5+ KB\n",
      "None\n"
     ]
    }
   ],
   "source": [
    "uber[\"TRIP_START_DAY\"]=uber[\"START_DATE*\"].dt.day\n",
    "uber[\"TRIP_START_DATE\"]=uber[\"START_DATE*\"].dt.date\n",
    "uber[\"TRIP_START_YEAR\"]=uber[\"START_DATE*\"].dt.year\n",
    "uber[\"TRIP_START_HOUR\"]=uber[\"START_DATE*\"].dt.hour\n",
    "uber[\"TRIP_START_MINUTE\"]=uber[\"START_DATE*\"].dt.minute\n",
    "print(uber.info())\n"
   ]
  },
  {
   "cell_type": "code",
   "execution_count": 104,
   "metadata": {},
   "outputs": [
    {
     "name": "stdout",
     "output_type": "stream",
     "text": [
      "<class 'pandas.core.frame.DataFrame'>\n",
      "RangeIndex: 1156 entries, 0 to 1155\n",
      "Data columns (total 20 columns):\n",
      "START_DATE*          1155 non-null datetime64[ns]\n",
      "END_DATE*            1155 non-null datetime64[ns]\n",
      "CATEGORY*            1155 non-null object\n",
      "START*               1155 non-null object\n",
      "STOP*                1155 non-null object\n",
      "MILES*               1156 non-null float64\n",
      "PURPOSE*             653 non-null object\n",
      "MONTH OF TRIP*       1155 non-null object\n",
      "DAY OF TRIP*         1155 non-null float64\n",
      "MONTH INDEX*         1155 non-null float64\n",
      "TRIP_START_DAY       1155 non-null float64\n",
      "TRIP_START_DATE      1155 non-null object\n",
      "TRIP_START_YEAR      1155 non-null float64\n",
      "TRIP_START_HOUR      1155 non-null float64\n",
      "TRIP_START_MINUTE    1155 non-null float64\n",
      "TRIP_END_DAY         1155 non-null float64\n",
      "TRIP_END_DATE        1155 non-null object\n",
      "TRIP_END_YEAR        1155 non-null float64\n",
      "TRIP_END_HOUR        1155 non-null float64\n",
      "TRIP_END_MINUTE      1155 non-null float64\n",
      "dtypes: datetime64[ns](2), float64(11), object(7)\n",
      "memory usage: 180.7+ KB\n",
      "None\n"
     ]
    }
   ],
   "source": [
    "uber[\"END_DATE*\"] = pd.to_datetime(uber[\"END_DATE*\"],errors='coerce', format='%m/%d/%Y %H:%M')\n",
    "uber[\"TRIP_END_DAY\"]=uber[\"END_DATE*\"].dt.day\n",
    "uber[\"TRIP_END_DATE\"]=uber[\"END_DATE*\"].dt.date\n",
    "uber[\"TRIP_END_YEAR\"]=uber[\"END_DATE*\"].dt.year\n",
    "uber[\"TRIP_END_HOUR\"]=uber[\"END_DATE*\"].dt.hour\n",
    "uber[\"TRIP_END_MINUTE\"]=uber[\"END_DATE*\"].dt.minute\n",
    "print(uber.info())"
   ]
  },
  {
   "cell_type": "code",
   "execution_count": 105,
   "metadata": {},
   "outputs": [
    {
     "name": "stdout",
     "output_type": "stream",
     "text": [
      "          START_DATE*           END_DATE* CATEGORY*       START*  \\\n",
      "0 2016-01-01 21:11:00 2016-01-01 21:17:00  Business  Fort Pierce   \n",
      "1 2016-01-02 01:25:00 2016-01-02 01:37:00  Business  Fort Pierce   \n",
      "2 2016-01-02 20:25:00 2016-01-02 20:38:00  Business  Fort Pierce   \n",
      "3 2016-01-05 17:31:00 2016-01-05 17:45:00  Business  Fort Pierce   \n",
      "4 2016-01-06 14:42:00 2016-01-06 15:49:00  Business  Fort Pierce   \n",
      "\n",
      "             STOP*  MILES*         PURPOSE* MONTH OF TRIP*  DAY OF TRIP*  \\\n",
      "0      Fort Pierce     5.1   Meal/Entertain        January           1.0   \n",
      "1      Fort Pierce     5.0              NaN        January           2.0   \n",
      "2      Fort Pierce     4.8  Errand/Supplies        January           2.0   \n",
      "3      Fort Pierce     4.7          Meeting        January           5.0   \n",
      "4  West Palm Beach    63.7   Customer Visit        January           6.0   \n",
      "\n",
      "   MONTH INDEX*  TRIP_START_DAY TRIP_START_DATE  TRIP_START_YEAR  \\\n",
      "0           1.0             1.0      2016-01-01           2016.0   \n",
      "1           1.0             2.0      2016-01-02           2016.0   \n",
      "2           1.0             2.0      2016-01-02           2016.0   \n",
      "3           1.0             5.0      2016-01-05           2016.0   \n",
      "4           1.0             6.0      2016-01-06           2016.0   \n",
      "\n",
      "   TRIP_START_HOUR  TRIP_START_MINUTE  TRIP_END_DAY TRIP_END_DATE  \\\n",
      "0             21.0               11.0           1.0    2016-01-01   \n",
      "1              1.0               25.0           2.0    2016-01-02   \n",
      "2             20.0               25.0           2.0    2016-01-02   \n",
      "3             17.0               31.0           5.0    2016-01-05   \n",
      "4             14.0               42.0           6.0    2016-01-06   \n",
      "\n",
      "   TRIP_END_YEAR  TRIP_END_HOUR  TRIP_END_MINUTE  \n",
      "0         2016.0           21.0             17.0  \n",
      "1         2016.0            1.0             37.0  \n",
      "2         2016.0           20.0             38.0  \n",
      "3         2016.0           17.0             45.0  \n",
      "4         2016.0           15.0             49.0  \n"
     ]
    }
   ],
   "source": [
    "print(uber.head(5))"
   ]
  },
  {
   "cell_type": "code",
   "execution_count": 125,
   "metadata": {},
   "outputs": [
    {
     "ename": "ValueError",
     "evalue": "Cannot convert non-finite values (NA or inf) to integer",
     "output_type": "error",
     "traceback": [
      "\u001b[1;31m---------------------------------------------------------------------------\u001b[0m",
      "\u001b[1;31mValueError\u001b[0m                                Traceback (most recent call last)",
      "\u001b[1;32m<ipython-input-125-a50ebb018e5e>\u001b[0m in \u001b[0;36m<module>\u001b[1;34m\u001b[0m\n\u001b[0;32m     12\u001b[0m                 \u001b[1;34m'TRIP_END_MINUTE'\u001b[0m\u001b[1;33m:\u001b[0m\u001b[0mint\u001b[0m\u001b[1;33m\u001b[0m\u001b[1;33m\u001b[0m\u001b[0m\n\u001b[0;32m     13\u001b[0m                } \n\u001b[1;32m---> 14\u001b[1;33m \u001b[0muber\u001b[0m \u001b[1;33m=\u001b[0m \u001b[0muber\u001b[0m\u001b[1;33m.\u001b[0m\u001b[0mastype\u001b[0m\u001b[1;33m(\u001b[0m\u001b[0mconvert_dict\u001b[0m\u001b[1;33m,\u001b[0m\u001b[0merrors\u001b[0m\u001b[1;33m=\u001b[0m\u001b[1;34m'coerce'\u001b[0m\u001b[1;33m)\u001b[0m\u001b[1;33m\u001b[0m\u001b[1;33m\u001b[0m\u001b[0m\n\u001b[0m\u001b[0;32m     15\u001b[0m \u001b[1;33m\u001b[0m\u001b[0m\n\u001b[0;32m     16\u001b[0m \u001b[1;31m# uber = uber.astype({\"DAY OF TRIP*\": int, \"MONTH INDEX*\": int})\u001b[0m\u001b[1;33m\u001b[0m\u001b[1;33m\u001b[0m\u001b[1;33m\u001b[0m\u001b[0m\n",
      "\u001b[1;32m~\\AppData\\Local\\Continuum\\anaconda3\\lib\\site-packages\\pandas\\core\\generic.py\u001b[0m in \u001b[0;36mastype\u001b[1;34m(self, dtype, copy, errors, **kwargs)\u001b[0m\n\u001b[0;32m   5676\u001b[0m             \u001b[1;32mfor\u001b[0m \u001b[0mcol_name\u001b[0m\u001b[1;33m,\u001b[0m \u001b[0mcol\u001b[0m \u001b[1;32min\u001b[0m \u001b[0mself\u001b[0m\u001b[1;33m.\u001b[0m\u001b[0miteritems\u001b[0m\u001b[1;33m(\u001b[0m\u001b[1;33m)\u001b[0m\u001b[1;33m:\u001b[0m\u001b[1;33m\u001b[0m\u001b[1;33m\u001b[0m\u001b[0m\n\u001b[0;32m   5677\u001b[0m                 \u001b[1;32mif\u001b[0m \u001b[0mcol_name\u001b[0m \u001b[1;32min\u001b[0m \u001b[0mdtype\u001b[0m\u001b[1;33m:\u001b[0m\u001b[1;33m\u001b[0m\u001b[1;33m\u001b[0m\u001b[0m\n\u001b[1;32m-> 5678\u001b[1;33m                     \u001b[0mresults\u001b[0m\u001b[1;33m.\u001b[0m\u001b[0mappend\u001b[0m\u001b[1;33m(\u001b[0m\u001b[0mcol\u001b[0m\u001b[1;33m.\u001b[0m\u001b[0mastype\u001b[0m\u001b[1;33m(\u001b[0m\u001b[0mdtype\u001b[0m\u001b[1;33m[\u001b[0m\u001b[0mcol_name\u001b[0m\u001b[1;33m]\u001b[0m\u001b[1;33m,\u001b[0m \u001b[0mcopy\u001b[0m\u001b[1;33m=\u001b[0m\u001b[0mcopy\u001b[0m\u001b[1;33m)\u001b[0m\u001b[1;33m)\u001b[0m\u001b[1;33m\u001b[0m\u001b[1;33m\u001b[0m\u001b[0m\n\u001b[0m\u001b[0;32m   5679\u001b[0m                 \u001b[1;32melse\u001b[0m\u001b[1;33m:\u001b[0m\u001b[1;33m\u001b[0m\u001b[1;33m\u001b[0m\u001b[0m\n\u001b[0;32m   5680\u001b[0m                     \u001b[0mresults\u001b[0m\u001b[1;33m.\u001b[0m\u001b[0mappend\u001b[0m\u001b[1;33m(\u001b[0m\u001b[0mresults\u001b[0m\u001b[1;33m.\u001b[0m\u001b[0mappend\u001b[0m\u001b[1;33m(\u001b[0m\u001b[0mcol\u001b[0m\u001b[1;33m.\u001b[0m\u001b[0mcopy\u001b[0m\u001b[1;33m(\u001b[0m\u001b[1;33m)\u001b[0m \u001b[1;32mif\u001b[0m \u001b[0mcopy\u001b[0m \u001b[1;32melse\u001b[0m \u001b[0mcol\u001b[0m\u001b[1;33m)\u001b[0m\u001b[1;33m)\u001b[0m\u001b[1;33m\u001b[0m\u001b[1;33m\u001b[0m\u001b[0m\n",
      "\u001b[1;32m~\\AppData\\Local\\Continuum\\anaconda3\\lib\\site-packages\\pandas\\core\\generic.py\u001b[0m in \u001b[0;36mastype\u001b[1;34m(self, dtype, copy, errors, **kwargs)\u001b[0m\n\u001b[0;32m   5689\u001b[0m             \u001b[1;31m# else, only a single dtype is given\u001b[0m\u001b[1;33m\u001b[0m\u001b[1;33m\u001b[0m\u001b[1;33m\u001b[0m\u001b[0m\n\u001b[0;32m   5690\u001b[0m             new_data = self._data.astype(dtype=dtype, copy=copy, errors=errors,\n\u001b[1;32m-> 5691\u001b[1;33m                                          **kwargs)\n\u001b[0m\u001b[0;32m   5692\u001b[0m             \u001b[1;32mreturn\u001b[0m \u001b[0mself\u001b[0m\u001b[1;33m.\u001b[0m\u001b[0m_constructor\u001b[0m\u001b[1;33m(\u001b[0m\u001b[0mnew_data\u001b[0m\u001b[1;33m)\u001b[0m\u001b[1;33m.\u001b[0m\u001b[0m__finalize__\u001b[0m\u001b[1;33m(\u001b[0m\u001b[0mself\u001b[0m\u001b[1;33m)\u001b[0m\u001b[1;33m\u001b[0m\u001b[1;33m\u001b[0m\u001b[0m\n\u001b[0;32m   5693\u001b[0m \u001b[1;33m\u001b[0m\u001b[0m\n",
      "\u001b[1;32m~\\AppData\\Local\\Continuum\\anaconda3\\lib\\site-packages\\pandas\\core\\internals\\managers.py\u001b[0m in \u001b[0;36mastype\u001b[1;34m(self, dtype, **kwargs)\u001b[0m\n\u001b[0;32m    529\u001b[0m \u001b[1;33m\u001b[0m\u001b[0m\n\u001b[0;32m    530\u001b[0m     \u001b[1;32mdef\u001b[0m \u001b[0mastype\u001b[0m\u001b[1;33m(\u001b[0m\u001b[0mself\u001b[0m\u001b[1;33m,\u001b[0m \u001b[0mdtype\u001b[0m\u001b[1;33m,\u001b[0m \u001b[1;33m**\u001b[0m\u001b[0mkwargs\u001b[0m\u001b[1;33m)\u001b[0m\u001b[1;33m:\u001b[0m\u001b[1;33m\u001b[0m\u001b[1;33m\u001b[0m\u001b[0m\n\u001b[1;32m--> 531\u001b[1;33m         \u001b[1;32mreturn\u001b[0m \u001b[0mself\u001b[0m\u001b[1;33m.\u001b[0m\u001b[0mapply\u001b[0m\u001b[1;33m(\u001b[0m\u001b[1;34m'astype'\u001b[0m\u001b[1;33m,\u001b[0m \u001b[0mdtype\u001b[0m\u001b[1;33m=\u001b[0m\u001b[0mdtype\u001b[0m\u001b[1;33m,\u001b[0m \u001b[1;33m**\u001b[0m\u001b[0mkwargs\u001b[0m\u001b[1;33m)\u001b[0m\u001b[1;33m\u001b[0m\u001b[1;33m\u001b[0m\u001b[0m\n\u001b[0m\u001b[0;32m    532\u001b[0m \u001b[1;33m\u001b[0m\u001b[0m\n\u001b[0;32m    533\u001b[0m     \u001b[1;32mdef\u001b[0m \u001b[0mconvert\u001b[0m\u001b[1;33m(\u001b[0m\u001b[0mself\u001b[0m\u001b[1;33m,\u001b[0m \u001b[1;33m**\u001b[0m\u001b[0mkwargs\u001b[0m\u001b[1;33m)\u001b[0m\u001b[1;33m:\u001b[0m\u001b[1;33m\u001b[0m\u001b[1;33m\u001b[0m\u001b[0m\n",
      "\u001b[1;32m~\\AppData\\Local\\Continuum\\anaconda3\\lib\\site-packages\\pandas\\core\\internals\\managers.py\u001b[0m in \u001b[0;36mapply\u001b[1;34m(self, f, axes, filter, do_integrity_check, consolidate, **kwargs)\u001b[0m\n\u001b[0;32m    393\u001b[0m                                             copy=align_copy)\n\u001b[0;32m    394\u001b[0m \u001b[1;33m\u001b[0m\u001b[0m\n\u001b[1;32m--> 395\u001b[1;33m             \u001b[0mapplied\u001b[0m \u001b[1;33m=\u001b[0m \u001b[0mgetattr\u001b[0m\u001b[1;33m(\u001b[0m\u001b[0mb\u001b[0m\u001b[1;33m,\u001b[0m \u001b[0mf\u001b[0m\u001b[1;33m)\u001b[0m\u001b[1;33m(\u001b[0m\u001b[1;33m**\u001b[0m\u001b[0mkwargs\u001b[0m\u001b[1;33m)\u001b[0m\u001b[1;33m\u001b[0m\u001b[1;33m\u001b[0m\u001b[0m\n\u001b[0m\u001b[0;32m    396\u001b[0m             \u001b[0mresult_blocks\u001b[0m \u001b[1;33m=\u001b[0m \u001b[0m_extend_blocks\u001b[0m\u001b[1;33m(\u001b[0m\u001b[0mapplied\u001b[0m\u001b[1;33m,\u001b[0m \u001b[0mresult_blocks\u001b[0m\u001b[1;33m)\u001b[0m\u001b[1;33m\u001b[0m\u001b[1;33m\u001b[0m\u001b[0m\n\u001b[0;32m    397\u001b[0m \u001b[1;33m\u001b[0m\u001b[0m\n",
      "\u001b[1;32m~\\AppData\\Local\\Continuum\\anaconda3\\lib\\site-packages\\pandas\\core\\internals\\blocks.py\u001b[0m in \u001b[0;36mastype\u001b[1;34m(self, dtype, copy, errors, values, **kwargs)\u001b[0m\n\u001b[0;32m    532\u001b[0m     \u001b[1;32mdef\u001b[0m \u001b[0mastype\u001b[0m\u001b[1;33m(\u001b[0m\u001b[0mself\u001b[0m\u001b[1;33m,\u001b[0m \u001b[0mdtype\u001b[0m\u001b[1;33m,\u001b[0m \u001b[0mcopy\u001b[0m\u001b[1;33m=\u001b[0m\u001b[1;32mFalse\u001b[0m\u001b[1;33m,\u001b[0m \u001b[0merrors\u001b[0m\u001b[1;33m=\u001b[0m\u001b[1;34m'raise'\u001b[0m\u001b[1;33m,\u001b[0m \u001b[0mvalues\u001b[0m\u001b[1;33m=\u001b[0m\u001b[1;32mNone\u001b[0m\u001b[1;33m,\u001b[0m \u001b[1;33m**\u001b[0m\u001b[0mkwargs\u001b[0m\u001b[1;33m)\u001b[0m\u001b[1;33m:\u001b[0m\u001b[1;33m\u001b[0m\u001b[1;33m\u001b[0m\u001b[0m\n\u001b[0;32m    533\u001b[0m         return self._astype(dtype, copy=copy, errors=errors, values=values,\n\u001b[1;32m--> 534\u001b[1;33m                             **kwargs)\n\u001b[0m\u001b[0;32m    535\u001b[0m \u001b[1;33m\u001b[0m\u001b[0m\n\u001b[0;32m    536\u001b[0m     def _astype(self, dtype, copy=False, errors='raise', values=None,\n",
      "\u001b[1;32m~\\AppData\\Local\\Continuum\\anaconda3\\lib\\site-packages\\pandas\\core\\internals\\blocks.py\u001b[0m in \u001b[0;36m_astype\u001b[1;34m(self, dtype, copy, errors, values, **kwargs)\u001b[0m\n\u001b[0;32m    631\u001b[0m \u001b[1;33m\u001b[0m\u001b[0m\n\u001b[0;32m    632\u001b[0m                     \u001b[1;31m# _astype_nansafe works fine with 1-d only\u001b[0m\u001b[1;33m\u001b[0m\u001b[1;33m\u001b[0m\u001b[1;33m\u001b[0m\u001b[0m\n\u001b[1;32m--> 633\u001b[1;33m                     \u001b[0mvalues\u001b[0m \u001b[1;33m=\u001b[0m \u001b[0mastype_nansafe\u001b[0m\u001b[1;33m(\u001b[0m\u001b[0mvalues\u001b[0m\u001b[1;33m.\u001b[0m\u001b[0mravel\u001b[0m\u001b[1;33m(\u001b[0m\u001b[1;33m)\u001b[0m\u001b[1;33m,\u001b[0m \u001b[0mdtype\u001b[0m\u001b[1;33m,\u001b[0m \u001b[0mcopy\u001b[0m\u001b[1;33m=\u001b[0m\u001b[1;32mTrue\u001b[0m\u001b[1;33m)\u001b[0m\u001b[1;33m\u001b[0m\u001b[1;33m\u001b[0m\u001b[0m\n\u001b[0m\u001b[0;32m    634\u001b[0m \u001b[1;33m\u001b[0m\u001b[0m\n\u001b[0;32m    635\u001b[0m                 \u001b[1;31m# TODO(extension)\u001b[0m\u001b[1;33m\u001b[0m\u001b[1;33m\u001b[0m\u001b[1;33m\u001b[0m\u001b[0m\n",
      "\u001b[1;32m~\\AppData\\Local\\Continuum\\anaconda3\\lib\\site-packages\\pandas\\core\\dtypes\\cast.py\u001b[0m in \u001b[0;36mastype_nansafe\u001b[1;34m(arr, dtype, copy, skipna)\u001b[0m\n\u001b[0;32m    674\u001b[0m \u001b[1;33m\u001b[0m\u001b[0m\n\u001b[0;32m    675\u001b[0m         \u001b[1;32mif\u001b[0m \u001b[1;32mnot\u001b[0m \u001b[0mnp\u001b[0m\u001b[1;33m.\u001b[0m\u001b[0misfinite\u001b[0m\u001b[1;33m(\u001b[0m\u001b[0marr\u001b[0m\u001b[1;33m)\u001b[0m\u001b[1;33m.\u001b[0m\u001b[0mall\u001b[0m\u001b[1;33m(\u001b[0m\u001b[1;33m)\u001b[0m\u001b[1;33m:\u001b[0m\u001b[1;33m\u001b[0m\u001b[1;33m\u001b[0m\u001b[0m\n\u001b[1;32m--> 676\u001b[1;33m             raise ValueError('Cannot convert non-finite values (NA or inf) to '\n\u001b[0m\u001b[0;32m    677\u001b[0m                              'integer')\n\u001b[0;32m    678\u001b[0m \u001b[1;33m\u001b[0m\u001b[0m\n",
      "\u001b[1;31mValueError\u001b[0m: Cannot convert non-finite values (NA or inf) to integer"
     ]
    }
   ],
   "source": [
    "convert_dict = {'DAY OF TRIP*': int, \n",
    "                'MONTH INDEX*': int,\n",
    "                'TRIP_START_DAY':int,\n",
    "                'TRIP_START_DATE':int,\n",
    "                'TRIP_START_YEAR':int,\n",
    "                'TRIP_START_HOUR':int,\n",
    "                'TRIP_START_MINUTE':int,\n",
    "                'TRIP_END_DAY':int,\n",
    "                'TRIP_END_DATE':int,\n",
    "                'TRIP_END_YEAR':int,\n",
    "                'TRIP_END_HOUR':int,\n",
    "                'TRIP_END_MINUTE':int\n",
    "               } \n",
    "uber = uber.astype(convert_dict,errors='coerce') \n",
    "\n",
    "# uber = uber.astype({\"DAY OF TRIP*\": int, \"MONTH INDEX*\": int})\n",
    "# pd.to_numeric(uber['DAY OF TRIP*'], downcast='integer')\n",
    "# uber[['DAY OF TRIP*', 'MONTH INDEX*']] = uber[['MONTH INDEX*', 'MONTH INDEX*']].astype(int)\n",
    "print(uber.info())"
   ]
  },
  {
   "cell_type": "code",
   "execution_count": 8,
   "metadata": {},
   "outputs": [
    {
     "data": {
      "text/plain": [
       "<seaborn.axisgrid.FacetGrid at 0x1ffe95af048>"
      ]
     },
     "execution_count": 8,
     "metadata": {},
     "output_type": "execute_result"
    },
    {
     "data": {
      "image/png": "[encoded data removed]",
      "text/plain": [
       "<Figure size 360x360 with 1 Axes>"
      ]
     },
     "metadata": {
      "needs_background": "light"
     },
     "output_type": "display_data"
    }
   ],
   "source": [
    "sns.lmplot(x=\"Overall\", y=\"Potential\", data=auto)"
   ]
  }
 ],
 "metadata": {
  "kernelspec": {
   "display_name": "Python 3",
   "language": "python",
   "name": "python3"
  },
  "language_info": {
   "codemirror_mode": {
    "name": "ipython",
    "version": 3
   },
   "file_extension": ".py",
   "mimetype": "text/x-python",
   "name": "python",
   "nbconvert_exporter": "python",
   "pygments_lexer": "ipython3",
   "version": "3.7.3"
  }
 },
 "nbformat": 4,
 "nbformat_minor": 2
}
