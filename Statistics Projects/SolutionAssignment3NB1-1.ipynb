{
 "cells": [
  {
   "cell_type": "code",
   "execution_count": 9,
   "metadata": {},
   "outputs": [],
   "source": [
    "#Importing libraries\n",
    "import numpy as np\n",
    "import pandas as pd\n",
    "from scipy.stats import ttest_1samp, ttest_ind"
   ]
  },
  {
   "cell_type": "code",
   "execution_count": 10,
   "metadata": {},
   "outputs": [
    {
     "data": {
      "text/plain": [
       "0     0.14\n",
       "1     0.15\n",
       "2     0.31\n",
       "3     0.16\n",
       "4     0.37\n",
       "5     0.18\n",
       "6     0.42\n",
       "7     0.58\n",
       "8     0.25\n",
       "9     0.41\n",
       "10    0.17\n",
       "11    0.13\n",
       "12    0.23\n",
       "13    0.11\n",
       "14    0.10\n",
       "15    0.19\n",
       "16    0.22\n",
       "17    0.44\n",
       "18    0.11\n",
       "19    0.11\n",
       "20    0.31\n",
       "21    0.43\n",
       "22    0.26\n",
       "23    0.18\n",
       "24    0.44\n",
       "25    0.43\n",
       "26    0.16\n",
       "27    0.52\n",
       "28    0.36\n",
       "29    0.22\n",
       "30    0.39\n",
       "31    0.00\n",
       "32    0.00\n",
       "33    0.00\n",
       "34    0.00\n",
       "35    0.00\n",
       "Name: B, dtype: float64"
      ]
     },
     "execution_count": 10,
     "metadata": {},
     "output_type": "execute_result"
    }
   ],
   "source": [
    "#Reading CSV file\n",
    "mydata = pd.read_csv('C:/Users/Thiyaneswaran_Manoha/Downloads/A+&+B+shingles.csv')\n",
    "mydata.head()\n",
    "mydata['B'].head(40)\n",
    "mydata['B'].fillna(0, inplace=True)\n",
    "mydata['B'].head(40)"
   ]
  },
  {
   "cell_type": "code",
   "execution_count": 11,
   "metadata": {},
   "outputs": [
    {
     "data": {
      "text/plain": [
       "A    1\n",
       "B    0\n",
       "dtype: int64"
      ]
     },
     "execution_count": 11,
     "metadata": {},
     "output_type": "execute_result"
    }
   ],
   "source": [
    "#Outlier count\n",
    "Q1 = mydata.quantile(0.25)\n",
    "Q3 = mydata.quantile(0.75)\n",
    "IQR = Q3 - Q1\n",
    "((mydata < (Q1 - 1.5 * IQR)) | (mydata > (Q3 + 1.5 * IQR))).sum()"
   ]
  },
  {
   "cell_type": "code",
   "execution_count": 12,
   "metadata": {},
   "outputs": [
    {
     "data": {
      "text/html": [
       "<div>\n",
       "<style scoped>\n",
       "    .dataframe tbody tr th:only-of-type {\n",
       "        vertical-align: middle;\n",
       "    }\n",
       "\n",
       "    .dataframe tbody tr th {\n",
       "        vertical-align: top;\n",
       "    }\n",
       "\n",
       "    .dataframe thead th {\n",
       "        text-align: right;\n",
       "    }\n",
       "</style>\n",
       "<table border=\"1\" class=\"dataframe\">\n",
       "  <thead>\n",
       "    <tr style=\"text-align: right;\">\n",
       "      <th></th>\n",
       "      <th>A</th>\n",
       "      <th>B</th>\n",
       "    </tr>\n",
       "  </thead>\n",
       "  <tbody>\n",
       "    <tr>\n",
       "      <th>A</th>\n",
       "      <td>0.018423</td>\n",
       "      <td>-0.008038</td>\n",
       "    </tr>\n",
       "    <tr>\n",
       "      <th>B</th>\n",
       "      <td>-0.008038</td>\n",
       "      <td>0.025363</td>\n",
       "    </tr>\n",
       "  </tbody>\n",
       "</table>\n",
       "</div>"
      ],
      "text/plain": [
       "          A         B\n",
       "A  0.018423 -0.008038\n",
       "B -0.008038  0.025363"
      ]
     },
     "execution_count": 12,
     "metadata": {},
     "output_type": "execute_result"
    }
   ],
   "source": [
    "#Covariance\n",
    "mydata.cov()"
   ]
  },
  {
   "cell_type": "code",
   "execution_count": 13,
   "metadata": {},
   "outputs": [
    {
     "name": "stdout",
     "output_type": "stream",
     "text": [
      "<class 'pandas.core.frame.DataFrame'>\n",
      "RangeIndex: 36 entries, 0 to 35\n",
      "Data columns (total 2 columns):\n",
      "A    36 non-null float64\n",
      "B    36 non-null float64\n",
      "dtypes: float64(2)\n",
      "memory usage: 656.0 bytes\n"
     ]
    }
   ],
   "source": [
    "#Information about the data\n",
    "mydata.info()"
   ]
  },
  {
   "cell_type": "code",
   "execution_count": 14,
   "metadata": {},
   "outputs": [
    {
     "data": {
      "text/html": [
       "<div>\n",
       "<style scoped>\n",
       "    .dataframe tbody tr th:only-of-type {\n",
       "        vertical-align: middle;\n",
       "    }\n",
       "\n",
       "    .dataframe tbody tr th {\n",
       "        vertical-align: top;\n",
       "    }\n",
       "\n",
       "    .dataframe thead th {\n",
       "        text-align: right;\n",
       "    }\n",
       "</style>\n",
       "<table border=\"1\" class=\"dataframe\">\n",
       "  <thead>\n",
       "    <tr style=\"text-align: right;\">\n",
       "      <th></th>\n",
       "      <th>A</th>\n",
       "      <th>B</th>\n",
       "    </tr>\n",
       "  </thead>\n",
       "  <tbody>\n",
       "    <tr>\n",
       "      <th>count</th>\n",
       "      <td>36.000000</td>\n",
       "      <td>36.000000</td>\n",
       "    </tr>\n",
       "    <tr>\n",
       "      <th>mean</th>\n",
       "      <td>0.316667</td>\n",
       "      <td>0.235556</td>\n",
       "    </tr>\n",
       "    <tr>\n",
       "      <th>std</th>\n",
       "      <td>0.135731</td>\n",
       "      <td>0.159256</td>\n",
       "    </tr>\n",
       "    <tr>\n",
       "      <th>min</th>\n",
       "      <td>0.130000</td>\n",
       "      <td>0.000000</td>\n",
       "    </tr>\n",
       "    <tr>\n",
       "      <th>25%</th>\n",
       "      <td>0.207500</td>\n",
       "      <td>0.125000</td>\n",
       "    </tr>\n",
       "    <tr>\n",
       "      <th>50%</th>\n",
       "      <td>0.290000</td>\n",
       "      <td>0.205000</td>\n",
       "    </tr>\n",
       "    <tr>\n",
       "      <th>75%</th>\n",
       "      <td>0.392500</td>\n",
       "      <td>0.375000</td>\n",
       "    </tr>\n",
       "    <tr>\n",
       "      <th>max</th>\n",
       "      <td>0.720000</td>\n",
       "      <td>0.580000</td>\n",
       "    </tr>\n",
       "  </tbody>\n",
       "</table>\n",
       "</div>"
      ],
      "text/plain": [
       "               A          B\n",
       "count  36.000000  36.000000\n",
       "mean    0.316667   0.235556\n",
       "std     0.135731   0.159256\n",
       "min     0.130000   0.000000\n",
       "25%     0.207500   0.125000\n",
       "50%     0.290000   0.205000\n",
       "75%     0.392500   0.375000\n",
       "max     0.720000   0.580000"
      ]
     },
     "execution_count": 14,
     "metadata": {},
     "output_type": "execute_result"
    }
   ],
   "source": [
    "#Statistical Metrics\n",
    "mydata.describe(include=\"all\")"
   ]
  },
  {
   "cell_type": "code",
   "execution_count": 15,
   "metadata": {},
   "outputs": [
    {
     "data": {
      "text/plain": [
       "A    0.316667\n",
       "B    0.235556\n",
       "dtype: float64"
      ]
     },
     "execution_count": 15,
     "metadata": {},
     "output_type": "execute_result"
    }
   ],
   "source": [
    "#Mean\n",
    "mydata.mean()"
   ]
  },
  {
   "cell_type": "code",
   "execution_count": 17,
   "metadata": {},
   "outputs": [
    {
     "name": "stdout",
     "output_type": "stream",
     "text": [
      "-1.4735046253382782 0.14955266289815025\n"
     ]
    }
   ],
   "source": [
    "#The null hypothesis states that mean moisture content is, μμ <= 0.35 pound per 100 square feet\n",
    "#The alternative hypothesis states that the mean intake energy, μμ > 0.35 pound per 100 square feet\n",
    "\n",
    "#H0H0: μμ <= 0.35\n",
    "# HAHA: μμ > 0.35\n",
    "\n",
    "# This is One tailed Test. As we know population mean and we don’t know sigma(population std dev), so we need to use T test. \n",
    "\n",
    "# Tstat:= -1.4735046253382782\n",
    "# Decision Rule: Reject Ho if tstat<-1.69 and df=35\n",
    "\n",
    "# Decision: Since tSTAT > −1.690, do not reject H0 . There is enough evidence to conclude that the mean moisture content for shingles is less than/equal to 0.35 pounds per 100 square feet\n",
    "\n",
    "# P= 0.14955266289815025\n",
    "# P>0.05(Fail to Reject Null Hypothesis).\n",
    "# As P is more than 0.05, we fail to reject null hypothesis.\n",
    "\n",
    "# If the population mean moisture content is in fact less than/equal to 0.35 pounds per 100 square feet, the probability of observing a sample of 36 shingles that will result in a sample mean moisture content of 0.3167 pounds per 100 square feet or less is 0.149\n",
    "\n",
    "t_statistic, p_value = ttest_1samp(mydata['A'],0.35)\n",
    "print(t_statistic,p_value)\n"
   ]
  },
  {
   "cell_type": "code",
   "execution_count": 19,
   "metadata": {},
   "outputs": [
    {
     "data": {
      "text/html": [
       "<div>\n",
       "<style scoped>\n",
       "    .dataframe tbody tr th:only-of-type {\n",
       "        vertical-align: middle;\n",
       "    }\n",
       "\n",
       "    .dataframe tbody tr th {\n",
       "        vertical-align: top;\n",
       "    }\n",
       "\n",
       "    .dataframe thead th {\n",
       "        text-align: right;\n",
       "    }\n",
       "</style>\n",
       "<table border=\"1\" class=\"dataframe\">\n",
       "  <thead>\n",
       "    <tr style=\"text-align: right;\">\n",
       "      <th></th>\n",
       "      <th>B</th>\n",
       "    </tr>\n",
       "  </thead>\n",
       "  <tbody>\n",
       "    <tr>\n",
       "      <th>0</th>\n",
       "      <td>0.14</td>\n",
       "    </tr>\n",
       "    <tr>\n",
       "      <th>1</th>\n",
       "      <td>0.15</td>\n",
       "    </tr>\n",
       "    <tr>\n",
       "      <th>2</th>\n",
       "      <td>0.31</td>\n",
       "    </tr>\n",
       "    <tr>\n",
       "      <th>3</th>\n",
       "      <td>0.16</td>\n",
       "    </tr>\n",
       "    <tr>\n",
       "      <th>4</th>\n",
       "      <td>0.37</td>\n",
       "    </tr>\n",
       "    <tr>\n",
       "      <th>5</th>\n",
       "      <td>0.18</td>\n",
       "    </tr>\n",
       "    <tr>\n",
       "      <th>6</th>\n",
       "      <td>0.42</td>\n",
       "    </tr>\n",
       "    <tr>\n",
       "      <th>7</th>\n",
       "      <td>0.58</td>\n",
       "    </tr>\n",
       "    <tr>\n",
       "      <th>8</th>\n",
       "      <td>0.25</td>\n",
       "    </tr>\n",
       "    <tr>\n",
       "      <th>9</th>\n",
       "      <td>0.41</td>\n",
       "    </tr>\n",
       "    <tr>\n",
       "      <th>10</th>\n",
       "      <td>0.17</td>\n",
       "    </tr>\n",
       "    <tr>\n",
       "      <th>11</th>\n",
       "      <td>0.13</td>\n",
       "    </tr>\n",
       "    <tr>\n",
       "      <th>12</th>\n",
       "      <td>0.23</td>\n",
       "    </tr>\n",
       "    <tr>\n",
       "      <th>13</th>\n",
       "      <td>0.11</td>\n",
       "    </tr>\n",
       "    <tr>\n",
       "      <th>14</th>\n",
       "      <td>0.10</td>\n",
       "    </tr>\n",
       "    <tr>\n",
       "      <th>15</th>\n",
       "      <td>0.19</td>\n",
       "    </tr>\n",
       "    <tr>\n",
       "      <th>16</th>\n",
       "      <td>0.22</td>\n",
       "    </tr>\n",
       "    <tr>\n",
       "      <th>17</th>\n",
       "      <td>0.44</td>\n",
       "    </tr>\n",
       "    <tr>\n",
       "      <th>18</th>\n",
       "      <td>0.11</td>\n",
       "    </tr>\n",
       "    <tr>\n",
       "      <th>19</th>\n",
       "      <td>0.11</td>\n",
       "    </tr>\n",
       "    <tr>\n",
       "      <th>20</th>\n",
       "      <td>0.31</td>\n",
       "    </tr>\n",
       "    <tr>\n",
       "      <th>21</th>\n",
       "      <td>0.43</td>\n",
       "    </tr>\n",
       "    <tr>\n",
       "      <th>22</th>\n",
       "      <td>0.26</td>\n",
       "    </tr>\n",
       "    <tr>\n",
       "      <th>23</th>\n",
       "      <td>0.18</td>\n",
       "    </tr>\n",
       "    <tr>\n",
       "      <th>24</th>\n",
       "      <td>0.44</td>\n",
       "    </tr>\n",
       "    <tr>\n",
       "      <th>25</th>\n",
       "      <td>0.43</td>\n",
       "    </tr>\n",
       "    <tr>\n",
       "      <th>26</th>\n",
       "      <td>0.16</td>\n",
       "    </tr>\n",
       "    <tr>\n",
       "      <th>27</th>\n",
       "      <td>0.52</td>\n",
       "    </tr>\n",
       "    <tr>\n",
       "      <th>28</th>\n",
       "      <td>0.36</td>\n",
       "    </tr>\n",
       "    <tr>\n",
       "      <th>29</th>\n",
       "      <td>0.22</td>\n",
       "    </tr>\n",
       "    <tr>\n",
       "      <th>30</th>\n",
       "      <td>0.39</td>\n",
       "    </tr>\n",
       "  </tbody>\n",
       "</table>\n",
       "</div>"
      ],
      "text/plain": [
       "       B\n",
       "0   0.14\n",
       "1   0.15\n",
       "2   0.31\n",
       "3   0.16\n",
       "4   0.37\n",
       "5   0.18\n",
       "6   0.42\n",
       "7   0.58\n",
       "8   0.25\n",
       "9   0.41\n",
       "10  0.17\n",
       "11  0.13\n",
       "12  0.23\n",
       "13  0.11\n",
       "14  0.10\n",
       "15  0.19\n",
       "16  0.22\n",
       "17  0.44\n",
       "18  0.11\n",
       "19  0.11\n",
       "20  0.31\n",
       "21  0.43\n",
       "22  0.26\n",
       "23  0.18\n",
       "24  0.44\n",
       "25  0.43\n",
       "26  0.16\n",
       "27  0.52\n",
       "28  0.36\n",
       "29  0.22\n",
       "30  0.39"
      ]
     },
     "execution_count": 19,
     "metadata": {},
     "output_type": "execute_result"
    }
   ],
   "source": [
    "#As B data has some blank values and it does not match with A count so B segregated as separated sheet but Still I tried on both ways\n",
    "#By Considering A&B in the same file and B in separate file\n",
    "mydata1 = pd.read_csv('C:/Users/Thiyaneswaran_Manoha/Downloads/Bbook.csv')\n",
    "mydata1.head(40)"
   ]
  },
  {
   "cell_type": "code",
   "execution_count": 20,
   "metadata": {},
   "outputs": [
    {
     "data": {
      "text/plain": [
       "B    0.273548\n",
       "dtype: float64"
      ]
     },
     "execution_count": 20,
     "metadata": {},
     "output_type": "execute_result"
    }
   ],
   "source": [
    "#Mean of B\n",
    "mydata1.mean()"
   ]
  },
  {
   "cell_type": "code",
   "execution_count": 25,
   "metadata": {},
   "outputs": [
    {
     "name": "stdout",
     "output_type": "stream",
     "text": [
      "-3.1003313069986995 0.004180954800638363\n",
      "-4.311710524179449 0.00012557068120902648\n"
     ]
    }
   ],
   "source": [
    "# This is One tailed Test. As we know population mean and we don’t know sigma(population std dev), so we need to use T test.\n",
    "\n",
    "# The null hypothesis states that mean moisture content is, μμ <= 0.35 pound per 100 square feet\n",
    "# The alternative hypothesis states that the mean intake energy, μμ > 0.35 pound per 100 square feet\n",
    "\n",
    "# H0H0: μμ <= 0.35\n",
    "# HAHA: μμ > 0.35\n",
    "\n",
    "# Decision rule: Reject H0 if tSTAT < -1.6973 d.f. = 30\n",
    "# Tstat= -3.1003313069986995\n",
    "\n",
    "# Decision: Since tSTAT < -1.6973, reject H0 . There is not enough evidence to conclude that the mean moisture content for B shingles is less than/equal to 0.35 pounds per 100 square feet\n",
    "\n",
    "# Halt= the population mean moisture content is less than 0.35\n",
    "# NullHyp= the population mean moisture content is = 0.35\n",
    "\n",
    "# H0: μ = 0.35 \n",
    "# H1 : μ < 0.35\n",
    "\n",
    "# Based on T Statistic:\n",
    "# P<0.05(Alt Hypothesis)\n",
    "# P= 0.004180954800638363\n",
    "# P<0.05 Reject Null Hypothesis).\n",
    "\n",
    "# As P is less than 0.05, we tend to reject null hypothesis.\n",
    "\n",
    "# If the population mean moisture content is in fact not equal to 0.35 pounds per 100 square feet, the probability of observing a sample of 31 shingles that will result in a sample mean moisture content of 0.2735 pounds per 100 square feet or less is .0041\n",
    "\n",
    "\n",
    "t_statistic, p_value = ttest_1samp(mydata1['B'],0.35)\n",
    "print(t_statistic,p_value)\n",
    "#As P is less than 0.05, we tend to reject null hypothesis.\n",
    "t_statistic1, p_value1 = ttest_1samp(mydata['B'],0.35)\n",
    "print(t_statistic1,p_value1)"
   ]
  },
  {
   "cell_type": "code",
   "execution_count": 26,
   "metadata": {},
   "outputs": [],
   "source": [
    "import numpy as np\n",
    "from scipy.stats import ttest_1samp, wilcoxon\n",
    "from statsmodels.stats.power import ttest_power"
   ]
  },
  {
   "cell_type": "code",
   "execution_count": 27,
   "metadata": {},
   "outputs": [
    {
     "name": "stdout",
     "output_type": "stream",
     "text": [
      "one-sample wilcoxon-test A p-value 0.07578140352810894\n",
      "one-sample wilcoxon-test B p-value 0.0060663183918927\n",
      "one-sample wilcoxon-test B p-value 0.0004054413150830434\n"
     ]
    }
   ],
   "source": [
    "# one sample wilcoxon-test-To Calculate Z score and P value\n",
    "z_statistic, p_value = wilcoxon(mydata['A'] - 0.35)\n",
    "print (\"one-sample wilcoxon-test A p-value\", p_value)\n",
    "#As P is more than 0.05, we are fail to reject null hypothesis).\n",
    "\n",
    "z_statistic, p_value = wilcoxon(mydata1['B'] - 0.35)\n",
    "print (\"one-sample wilcoxon-test B p-value\", p_value)\n",
    "#As P is less than 0.05, we tend to reject null hypothesis.\n",
    "\n",
    "z_statistic, p_value = wilcoxon(mydata['B'] - 0.35)\n",
    "print (\"one-sample wilcoxon-test B p-value\", p_value)"
   ]
  },
  {
   "cell_type": "code",
   "execution_count": 24,
   "metadata": {},
   "outputs": [
    {
     "name": "stdout",
     "output_type": "stream",
     "text": [
      "-0.24906774069335935\n",
      "-0.5660404641942207\n",
      "-0.7288120989335968\n"
     ]
    }
   ],
   "source": [
    "# Calculating Power of Test\n",
    "# Compute the difference in Means between Population and Sample and divide it by Standard Deviation\n",
    "# Set the number of Observations\n",
    "# Set the alpha value and alternative values 'two-sided' , 'larger' , 'smaller'\n",
    "\n",
    "print((np.mean(mydata['A']) - 0.35) / np.std(mydata['A']))\n",
    "print((np.mean(mydata1['B']) - 0.35) / np.std(mydata1['B']))\n",
    "print((np.mean(mydata['B']) - 0.35) / np.std(mydata['B']))"
   ]
  },
  {
   "cell_type": "code",
   "execution_count": 28,
   "metadata": {},
   "outputs": [
    {
     "name": "stdout",
     "output_type": "stream",
     "text": [
      "0.30644743580450584\n",
      "0.8619346209458303\n",
      "0.9752819261984187\n"
     ]
    }
   ],
   "source": [
    "#T Test - 2 sided test\n",
    "print(ttest_power(-0.249, nobs=36, alpha=0.05, alternative='two-sided'))\n",
    "print(ttest_power(-0.566, nobs=31, alpha=0.05, alternative='two-sided'))\n",
    "print(ttest_power(-0.7288, nobs=31, alpha=0.05, alternative='two-sided'))\n"
   ]
  },
  {
   "cell_type": "code",
   "execution_count": 29,
   "metadata": {},
   "outputs": [],
   "source": [
    "pre = mydata['A']\n",
    "post = mydata1['B']\n",
    "post1=mydata['B']"
   ]
  },
  {
   "cell_type": "code",
   "execution_count": 30,
   "metadata": {},
   "outputs": [
    {
     "name": "stdout",
     "output_type": "stream",
     "text": [
      "nan nan\n"
     ]
    },
    {
     "name": "stderr",
     "output_type": "stream",
     "text": [
      "C:\\Users\\Thiyaneswaran_Manoha\\AppData\\Local\\Continuum\\anaconda3\\lib\\site-packages\\scipy\\stats\\_distn_infrastructure.py:877: RuntimeWarning: invalid value encountered in greater\n",
      "  return (self.a < x) & (x < self.b)\n",
      "C:\\Users\\Thiyaneswaran_Manoha\\AppData\\Local\\Continuum\\anaconda3\\lib\\site-packages\\scipy\\stats\\_distn_infrastructure.py:877: RuntimeWarning: invalid value encountered in less\n",
      "  return (self.a < x) & (x < self.b)\n",
      "C:\\Users\\Thiyaneswaran_Manoha\\AppData\\Local\\Continuum\\anaconda3\\lib\\site-packages\\scipy\\stats\\_distn_infrastructure.py:1831: RuntimeWarning: invalid value encountered in less_equal\n",
      "  cond2 = cond0 & (x <= self.a)\n"
     ]
    }
   ],
   "source": [
    "# T Statisitc when post=pre\n",
    "t_statistic, p_value = ttest_1samp(post - pre, 0)\n",
    "print(t_statistic, p_value)"
   ]
  },
  {
   "cell_type": "code",
   "execution_count": 31,
   "metadata": {},
   "outputs": [
    {
     "name": "stdout",
     "output_type": "stream",
     "text": [
      "one-sample wilcoxon-test for  p-value 0.05742730587615016\n"
     ]
    },
    {
     "name": "stderr",
     "output_type": "stream",
     "text": [
      "C:\\Users\\Thiyaneswaran_Manoha\\AppData\\Local\\Continuum\\anaconda3\\lib\\site-packages\\scipy\\stats\\morestats.py:2781: RuntimeWarning: invalid value encountered in greater\n",
      "  r_plus = np.sum((d > 0) * r, axis=0)\n",
      "C:\\Users\\Thiyaneswaran_Manoha\\AppData\\Local\\Continuum\\anaconda3\\lib\\site-packages\\scipy\\stats\\morestats.py:2782: RuntimeWarning: invalid value encountered in less\n",
      "  r_minus = np.sum((d < 0) * r, axis=0)\n"
     ]
    }
   ],
   "source": [
    "# one sample wilcoxon-test\n",
    "#Z value while pre=post (This one is compared in another notebook file and analysis is more clear there)\n",
    "z_statistic, p_value = wilcoxon((post-pre) - 0)\n",
    "print (\"one-sample wilcoxon-test for  p-value\", p_value)"
   ]
  },
  {
   "cell_type": "code",
   "execution_count": 32,
   "metadata": {},
   "outputs": [
    {
     "name": "stdout",
     "output_type": "stream",
     "text": [
      "one-sample wilcoxon-test for  p-value 0.06418318872185905\n"
     ]
    }
   ],
   "source": [
    "# one sample wilcoxon-test\n",
    "z_statistic, p_value = wilcoxon((post1-pre) - 0)\n",
    "print (\"one-sample wilcoxon-test for  p-value\", p_value)"
   ]
  },
  {
   "cell_type": "code",
   "execution_count": 33,
   "metadata": {},
   "outputs": [
    {
     "data": {
      "text/plain": [
       "-1.6889527399349267"
      ]
     },
     "execution_count": 33,
     "metadata": {},
     "output_type": "execute_result"
    }
   ],
   "source": [
    "(np.mean(post-pre) - 0.35) / np.std(post-pre)"
   ]
  },
  {
   "cell_type": "code",
   "execution_count": 34,
   "metadata": {},
   "outputs": [
    {
     "data": {
      "text/plain": [
       "A   -0.249068\n",
       "B   -0.728812\n",
       "dtype: float64"
      ]
     },
     "execution_count": 34,
     "metadata": {},
     "output_type": "execute_result"
    }
   ],
   "source": [
    "(np.mean(mydata) - 0.35) / np.std(mydata)"
   ]
  },
  {
   "cell_type": "code",
   "execution_count": 35,
   "metadata": {},
   "outputs": [
    {
     "name": "stdout",
     "output_type": "stream",
     "text": [
      "1.0\n"
     ]
    }
   ],
   "source": [
    "#Power of T test while pre=post wrt mean 0.35\n",
    "print(ttest_power(-1.688, nobs=67, alpha=0.05, alternative='two-sided'))"
   ]
  },
  {
   "cell_type": "code",
   "execution_count": 36,
   "metadata": {},
   "outputs": [
    {
     "data": {
      "text/plain": [
       "-1.7870320029726072"
      ]
     },
     "execution_count": 36,
     "metadata": {},
     "output_type": "execute_result"
    }
   ],
   "source": [
    "(np.mean(post1-pre) - 0.35) / np.std(post1-pre)"
   ]
  },
  {
   "cell_type": "code",
   "execution_count": 37,
   "metadata": {},
   "outputs": [
    {
     "data": {
      "text/plain": [
       "-0.1541841278500059"
      ]
     },
     "execution_count": 37,
     "metadata": {},
     "output_type": "execute_result"
    }
   ],
   "source": [
    "(np.mean(post-pre) - 0.0) / np.std(post-pre)"
   ]
  },
  {
   "cell_type": "code",
   "execution_count": 38,
   "metadata": {},
   "outputs": [
    {
     "data": {
      "text/plain": [
       "-0.3362199387036091"
      ]
     },
     "execution_count": 38,
     "metadata": {},
     "output_type": "execute_result"
    }
   ],
   "source": [
    "(np.mean(post1-pre) - 0.0) / np.std(post1-pre)"
   ]
  },
  {
   "cell_type": "code",
   "execution_count": 39,
   "metadata": {},
   "outputs": [
    {
     "data": {
      "text/plain": [
       "-0.1541841278500059"
      ]
     },
     "execution_count": 39,
     "metadata": {},
     "output_type": "execute_result"
    }
   ],
   "source": [
    "(np.mean(post-pre) - 0.0) / np.std(post-pre)"
   ]
  },
  {
   "cell_type": "code",
   "execution_count": 40,
   "metadata": {},
   "outputs": [
    {
     "name": "stdout",
     "output_type": "stream",
     "text": [
      "0.23714630052571864\n"
     ]
    }
   ],
   "source": [
    "#Power of T test when Post-pre is zero\n",
    "print(ttest_power(-0.154, nobs=67, alpha=0.05, alternative='two-sided'))"
   ]
  },
  {
   "cell_type": "code",
   "execution_count": 41,
   "metadata": {},
   "outputs": [
    {
     "name": "stdout",
     "output_type": "stream",
     "text": [
      "2.3257710269401746 0.022933428704853095\n",
      "1.289628271966112 0.2017496571835328\n"
     ]
    }
   ],
   "source": [
    "#Independent T test wher A&B are independent\n",
    "# Halt= the population mean of A and B are not equal\n",
    "# NullHyp= the population mean of A and B are equal\n",
    "\n",
    "# Conclusion:\n",
    "\n",
    "# Based on Ttest independent, where B’s NA are filled with zeros then Tstat=2.32 and P=0.02.\n",
    "\n",
    "# Decision: P value is 0.02 where P<0.05 so null will go. We need to accept alternate hypothesis.\n",
    "# So Population mean of A is not equal with Population mean of B as per Ttest independent test. \n",
    "\n",
    "# In order for the t test to be valid, the data are assumed to be independently drawn from a population that is normally distributed. Since the sample sizes are 36 and 31, respectively, which are considered quite large, the t distribution will provide a good approximation to the sampling distribution of the mean as long as the population distribution is not very skewed.\n",
    "\n",
    "t_statistic, p_value = ttest_ind(mydata['A'], mydata['B'])\n",
    "print(t_statistic,p_value)\n",
    "\n",
    "t_statistic, p_value = ttest_ind(mydata['A'], mydata1['B'])\n",
    "print(t_statistic,p_value)"
   ]
  },
  {
   "cell_type": "code",
   "execution_count": 42,
   "metadata": {},
   "outputs": [],
   "source": [
    "import pandas as pd\n",
    "import seaborn as sb\n",
    "from matplotlib import pyplot as plt"
   ]
  },
  {
   "cell_type": "code",
   "execution_count": 43,
   "metadata": {},
   "outputs": [
    {
     "data": {
      "image/png": "[encoded data removed]",
      "text/plain": [
       "<Figure size 432x288 with 1 Axes>"
      ]
     },
     "metadata": {
      "needs_background": "light"
     },
     "output_type": "display_data"
    }
   ],
   "source": [
    "#Histogram B\n",
    "sb.distplot(mydata['A'])\n",
    "plt.show()"
   ]
  },
  {
   "cell_type": "code",
   "execution_count": 44,
   "metadata": {},
   "outputs": [
    {
     "data": {
      "image/png": "[encoded data removed]",
      "text/plain": [
       "<Figure size 432x288 with 1 Axes>"
      ]
     },
     "metadata": {
      "needs_background": "light"
     },
     "output_type": "display_data"
    }
   ],
   "source": [
    "#Histogram B\n",
    "sb.distplot(mydata1['B'])\n",
    "plt.show()"
   ]
  },
  {
   "cell_type": "code",
   "execution_count": 45,
   "metadata": {},
   "outputs": [
    {
     "data": {
      "text/plain": [
       "<matplotlib.axes._subplots.AxesSubplot at 0x1c17033e3c8>"
      ]
     },
     "execution_count": 45,
     "metadata": {},
     "output_type": "execute_result"
    },
    {
     "data": {
      "image/png": "[encoded data removed]",
      "text/plain": [
       "<Figure size 432x288 with 1 Axes>"
      ]
     },
     "metadata": {
      "needs_background": "light"
     },
     "output_type": "display_data"
    }
   ],
   "source": [
    "#BoxPlot\n",
    "mydata.boxplot()"
   ]
  },
  {
   "cell_type": "code",
   "execution_count": 13,
   "metadata": {},
   "outputs": [],
   "source": [
    "from scipy import stats\n",
    "import matplotlib.pyplot as plt\n",
    "nsample = 100\n",
    "np.random.seed(7654321)\n",
    "plt.show()"
   ]
  },
  {
   "cell_type": "code",
   "execution_count": 14,
   "metadata": {},
   "outputs": [
    {
     "data": {
      "image/png": "[encoded data removed]",
      "text/plain": [
       "<Figure size 432x288 with 1 Axes>"
      ]
     },
     "metadata": {
      "needs_background": "light"
     },
     "output_type": "display_data"
    }
   ],
   "source": [
    "#A t distribution with small degrees of freedom:\n",
    "ax1 = plt.subplot(221)\n",
    "x = stats.t.rvs(3, size=nsample)\n",
    "res = stats.probplot(x, plot=plt)\n",
    "plt.show()"
   ]
  },
  {
   "cell_type": "code",
   "execution_count": 15,
   "metadata": {},
   "outputs": [
    {
     "data": {
      "image/png": "[encoded data removed]",
      "text/plain": [
       "<Figure size 432x288 with 1 Axes>"
      ]
     },
     "metadata": {
      "needs_background": "light"
     },
     "output_type": "display_data"
    }
   ],
   "source": [
    "#A t distribution with larger degrees of freedom:\n",
    "ax2 = plt.subplot(222)\n",
    "x = stats.t.rvs(25, size=nsample)\n",
    "res = stats.probplot(x, plot=plt)"
   ]
  },
  {
   "cell_type": "code",
   "execution_count": 16,
   "metadata": {},
   "outputs": [
    {
     "data": {
      "image/png": "[encoded data removed]",
      "text/plain": [
       "<Figure size 432x288 with 1 Axes>"
      ]
     },
     "metadata": {
      "needs_background": "light"
     },
     "output_type": "display_data"
    }
   ],
   "source": [
    "#A mixture of two normal distributions with broadcasting:\n",
    "\n",
    "ax3 = plt.subplot(223)\n",
    "x = stats.norm.rvs(loc=[0,5], scale=[1,1.5],\n",
    "                   size=(nsample//2,2)).ravel()\n",
    "res = stats.probplot(x, plot=plt)"
   ]
  },
  {
   "cell_type": "code",
   "execution_count": 17,
   "metadata": {},
   "outputs": [
    {
     "data": {
      "image/png": "[encoded data removed]",
      "text/plain": [
       "<Figure size 432x288 with 1 Axes>"
      ]
     },
     "metadata": {
      "needs_background": "light"
     },
     "output_type": "display_data"
    }
   ],
   "source": [
    "#A standard normal distribution:\n",
    "\n",
    "ax4 = plt.subplot(224)\n",
    "x = stats.norm.rvs(loc=0, scale=1, size=nsample)\n",
    "res = stats.probplot(x, plot=plt)"
   ]
  },
  {
   "cell_type": "code",
   "execution_count": 19,
   "metadata": {},
   "outputs": [
    {
     "data": {
      "image/png": "[encoded data removed]",
      "text/plain": [
       "<Figure size 432x288 with 1 Axes>"
      ]
     },
     "metadata": {
      "needs_background": "light"
     },
     "output_type": "display_data"
    }
   ],
   "source": [
    "#Produce a new figure with a loggamma distribution, using the dist and sparams keywords:\n",
    "\n",
    "fig = plt.figure()\n",
    "ax = fig.add_subplot(111)\n",
    "x = stats.loggamma.rvs(c=2.5, size=500)\n",
    "res = stats.probplot(x, dist=stats.loggamma, sparams=(2.5,), plot=ax)\n",
    "ax.set_title(\"Probplot for loggamma dist with shape parameter 2.5\")\n",
    "#Show the results with Matplotlib:\n",
    "plt.show()"
   ]
  },
  {
   "cell_type": "code",
   "execution_count": 47,
   "metadata": {},
   "outputs": [
    {
     "name": "stdout",
     "output_type": "stream",
     "text": [
      "A set\n",
      "0.72 0.13 0.3166666666666666 0.13573082605973166\n",
      "0.9139948577076049\n",
      "B set\n",
      "0.58 0.0 0.23555555555555557 0.15925620767348342\n",
      "0.9151659058600712\n"
     ]
    }
   ],
   "source": [
    "#Zscore\n",
    "import scipy.stats as stats\n",
    "#stats.norm.cdf(data['Spending'].max(),loc=data['Spending'].mean(),scale=data['Spending'].std()-stats.norm.cdf(data['Spending'].min(),loc=data['Spending'].mean(),scale=data['Spending'].std()\n",
    "def statscdf(colname):\n",
    "    max=mydata[colname].max()\n",
    "    min=mydata[colname].min()\n",
    "    mean=mydata[colname].mean()\n",
    "    std=mydata[colname].std()\n",
    "    print(max,min,mean,std)\n",
    "    print(stats.norm.cdf(max,loc=mean,scale=std)-stats.norm.cdf(min,loc=mean,scale=std))\n",
    "\n",
    "print(\"A set\")\n",
    "statscdf('A')\n",
    "\n",
    "print(\"B set\")\n",
    "statscdf('B')"
   ]
  },
  {
   "cell_type": "code",
   "execution_count": 48,
   "metadata": {},
   "outputs": [
    {
     "data": {
      "image/png": "[encoded data removed]",
      "text/plain": [
       "<Figure size 432x288 with 1 Axes>"
      ]
     },
     "metadata": {
      "needs_background": "light"
     },
     "output_type": "display_data"
    }
   ],
   "source": [
    "from scipy import stats\n",
    "import matplotlib.pyplot as plot\n",
    "def calcZscore(colname):\n",
    "    Zscore=stats.zscore(mydata[colname])\n",
    "    df=pd.DataFrame(Zscore)\n",
    "    df.plot.kde()\n",
    "    plot.title(colname+\" Zscore\")\n",
    "    plot.show()\n",
    "calcZscore('A')"
   ]
  },
  {
   "cell_type": "code",
   "execution_count": 49,
   "metadata": {},
   "outputs": [
    {
     "data": {
      "image/png": "[encoded data removed]",
      "text/plain": [
       "<Figure size 432x288 with 1 Axes>"
      ]
     },
     "metadata": {
      "needs_background": "light"
     },
     "output_type": "display_data"
    }
   ],
   "source": [
    "calcZscore('B')"
   ]
  },
  {
   "cell_type": "code",
   "execution_count": 50,
   "metadata": {},
   "outputs": [
    {
     "data": {
      "image/png": "[encoded data removed]",
      "text/plain": [
       "<Figure size 432x288 with 1 Axes>"
      ]
     },
     "metadata": {
      "needs_background": "light"
     },
     "output_type": "display_data"
    }
   ],
   "source": [
    "# Bell Shaped Curve Example\n",
    "import matplotlib.pyplot as plt\n",
    "import numpy as np\n",
    "import scipy.stats as stats\n",
    "import math\n",
    "\n",
    "mu = 0\n",
    "variance = 1\n",
    "sigma = math.sqrt(variance)\n",
    "x = np.linspace(mu - 3*sigma, mu + 3*sigma, 100)\n",
    "plt.plot(x, stats.norm.pdf(x, mu, sigma))\n",
    "plt.show()"
   ]
  },
  {
   "cell_type": "code",
   "execution_count": 51,
   "metadata": {},
   "outputs": [
    {
     "data": {
      "text/html": [
       "<div>\n",
       "<style scoped>\n",
       "    .dataframe tbody tr th:only-of-type {\n",
       "        vertical-align: middle;\n",
       "    }\n",
       "\n",
       "    .dataframe tbody tr th {\n",
       "        vertical-align: top;\n",
       "    }\n",
       "\n",
       "    .dataframe thead th {\n",
       "        text-align: right;\n",
       "    }\n",
       "</style>\n",
       "<table border=\"1\" class=\"dataframe\">\n",
       "  <thead>\n",
       "    <tr style=\"text-align: right;\">\n",
       "      <th></th>\n",
       "      <th>A</th>\n",
       "      <th>B</th>\n",
       "      <th>count</th>\n",
       "    </tr>\n",
       "  </thead>\n",
       "  <tbody>\n",
       "    <tr>\n",
       "      <th>0</th>\n",
       "      <td>0.44</td>\n",
       "      <td>0.14</td>\n",
       "      <td>1</td>\n",
       "    </tr>\n",
       "    <tr>\n",
       "      <th>1</th>\n",
       "      <td>0.61</td>\n",
       "      <td>0.15</td>\n",
       "      <td>2</td>\n",
       "    </tr>\n",
       "    <tr>\n",
       "      <th>2</th>\n",
       "      <td>0.47</td>\n",
       "      <td>0.31</td>\n",
       "      <td>3</td>\n",
       "    </tr>\n",
       "    <tr>\n",
       "      <th>3</th>\n",
       "      <td>0.30</td>\n",
       "      <td>0.16</td>\n",
       "      <td>4</td>\n",
       "    </tr>\n",
       "    <tr>\n",
       "      <th>4</th>\n",
       "      <td>0.15</td>\n",
       "      <td>0.37</td>\n",
       "      <td>5</td>\n",
       "    </tr>\n",
       "  </tbody>\n",
       "</table>\n",
       "</div>"
      ],
      "text/plain": [
       "      A     B  count\n",
       "0  0.44  0.14      1\n",
       "1  0.61  0.15      2\n",
       "2  0.47  0.31      3\n",
       "3  0.30  0.16      4\n",
       "4  0.15  0.37      5"
      ]
     },
     "execution_count": 51,
     "metadata": {},
     "output_type": "execute_result"
    }
   ],
   "source": [
    "mydata['count']=mydata.index+1\n",
    "mydata.head()"
   ]
  },
  {
   "cell_type": "code",
   "execution_count": 52,
   "metadata": {},
   "outputs": [
    {
     "data": {
      "text/plain": [
       "36"
      ]
     },
     "execution_count": 52,
     "metadata": {},
     "output_type": "execute_result"
    }
   ],
   "source": [
    "n_rows=mydata.shape[0]\n",
    "n_rows"
   ]
  },
  {
   "cell_type": "code",
   "execution_count": 53,
   "metadata": {},
   "outputs": [
    {
     "data": {
      "text/html": [
       "<div>\n",
       "<style scoped>\n",
       "    .dataframe tbody tr th:only-of-type {\n",
       "        vertical-align: middle;\n",
       "    }\n",
       "\n",
       "    .dataframe tbody tr th {\n",
       "        vertical-align: top;\n",
       "    }\n",
       "\n",
       "    .dataframe thead th {\n",
       "        text-align: right;\n",
       "    }\n",
       "</style>\n",
       "<table border=\"1\" class=\"dataframe\">\n",
       "  <thead>\n",
       "    <tr style=\"text-align: right;\">\n",
       "      <th></th>\n",
       "      <th>A</th>\n",
       "      <th>B</th>\n",
       "      <th>count</th>\n",
       "      <th>percentile area</th>\n",
       "      <th>z_theoretical</th>\n",
       "      <th>z_actual_A</th>\n",
       "      <th>z_actual_B</th>\n",
       "    </tr>\n",
       "  </thead>\n",
       "  <tbody>\n",
       "    <tr>\n",
       "      <th>0</th>\n",
       "      <td>0.44</td>\n",
       "      <td>0.14</td>\n",
       "      <td>1</td>\n",
       "      <td>0.027778</td>\n",
       "      <td>-1.914506</td>\n",
       "      <td>0.921551</td>\n",
       "      <td>-0.608523</td>\n",
       "    </tr>\n",
       "    <tr>\n",
       "      <th>1</th>\n",
       "      <td>0.61</td>\n",
       "      <td>0.15</td>\n",
       "      <td>2</td>\n",
       "      <td>0.055556</td>\n",
       "      <td>-1.593219</td>\n",
       "      <td>2.191796</td>\n",
       "      <td>-0.544840</td>\n",
       "    </tr>\n",
       "    <tr>\n",
       "      <th>2</th>\n",
       "      <td>0.47</td>\n",
       "      <td>0.31</td>\n",
       "      <td>3</td>\n",
       "      <td>0.083333</td>\n",
       "      <td>-1.382994</td>\n",
       "      <td>1.145712</td>\n",
       "      <td>0.474082</td>\n",
       "    </tr>\n",
       "    <tr>\n",
       "      <th>3</th>\n",
       "      <td>0.30</td>\n",
       "      <td>0.16</td>\n",
       "      <td>4</td>\n",
       "      <td>0.111111</td>\n",
       "      <td>-1.220640</td>\n",
       "      <td>-0.124534</td>\n",
       "      <td>-0.481158</td>\n",
       "    </tr>\n",
       "    <tr>\n",
       "      <th>4</th>\n",
       "      <td>0.15</td>\n",
       "      <td>0.37</td>\n",
       "      <td>5</td>\n",
       "      <td>0.138889</td>\n",
       "      <td>-1.085325</td>\n",
       "      <td>-1.245339</td>\n",
       "      <td>0.856177</td>\n",
       "    </tr>\n",
       "  </tbody>\n",
       "</table>\n",
       "</div>"
      ],
      "text/plain": [
       "      A     B  count  percentile area  z_theoretical  z_actual_A  z_actual_B\n",
       "0  0.44  0.14      1         0.027778      -1.914506    0.921551   -0.608523\n",
       "1  0.61  0.15      2         0.055556      -1.593219    2.191796   -0.544840\n",
       "2  0.47  0.31      3         0.083333      -1.382994    1.145712    0.474082\n",
       "3  0.30  0.16      4         0.111111      -1.220640   -0.124534   -0.481158\n",
       "4  0.15  0.37      5         0.138889      -1.085325   -1.245339    0.856177"
      ]
     },
     "execution_count": 53,
     "metadata": {},
     "output_type": "execute_result"
    }
   ],
   "source": [
    "mydata['percentile area']=mydata['count']/n_rows\n",
    "from scipy.special import ndtri\n",
    "mydata['z_theoretical']=ndtri(mydata['percentile area'])\n",
    "mydata['z_actual_A']=(mydata['A']-mydata['A'].mean())/mydata['A'].std(ddof=0)\n",
    "mydata['z_actual_B']=(mydata['B']-mydata['B'].mean())/mydata['B'].std(ddof=0)\n",
    "mydata.head()"
   ]
  },
  {
   "cell_type": "code",
   "execution_count": 54,
   "metadata": {},
   "outputs": [
    {
     "data": {
      "image/png": "[encoded data removed]",
      "text/plain": [
       "<Figure size 432x288 with 1 Axes>"
      ]
     },
     "metadata": {
      "needs_background": "light"
     },
     "output_type": "display_data"
    }
   ],
   "source": [
    "#Normal Dist Plot\n",
    "import matplotlib.pyplot as plt\n",
    "plt.scatter(mydata['z_actual_A'],mydata['z_theoretical'])\n",
    "plt.plot([-2,-1,0,1,2],[-2,-1,0,1,2])\n",
    "plt.show()"
   ]
  },
  {
   "cell_type": "code",
   "execution_count": 55,
   "metadata": {},
   "outputs": [
    {
     "data": {
      "image/png": "[encoded data removed]",
      "text/plain": [
       "<Figure size 432x288 with 1 Axes>"
      ]
     },
     "metadata": {
      "needs_background": "light"
     },
     "output_type": "display_data"
    }
   ],
   "source": [
    "plt.scatter(mydata['z_actual_B'],mydata['z_theoretical'])\n",
    "plt.plot([-2,-1,0,1,2],[-2,-1,0,1,2])\n",
    "plt.show()"
   ]
  },
  {
   "cell_type": "code",
   "execution_count": 56,
   "metadata": {},
   "outputs": [
    {
     "data": {
      "image/png": "[encoded data removed]",
      "text/plain": [
       "<Figure size 432x288 with 1 Axes>"
      ]
     },
     "metadata": {
      "needs_background": "light"
     },
     "output_type": "display_data"
    }
   ],
   "source": [
    "plt.scatter(mydata['z_actual_A'],mydata['z_actual_B'])\n",
    "plt.plot([-2,-1,0,1,2],[-2,-1,0,1,2])\n",
    "plt.show()"
   ]
  },
  {
   "cell_type": "code",
   "execution_count": 57,
   "metadata": {},
   "outputs": [
    {
     "data": {
      "image/png": "[encoded data removed]",
      "text/plain": [
       "<Figure size 432x288 with 1 Axes>"
      ]
     },
     "metadata": {
      "needs_background": "light"
     },
     "output_type": "display_data"
    }
   ],
   "source": [
    "plt.scatter(mydata['z_theoretical'],mydata['z_theoretical'])\n",
    "plt.plot([-2,-1,0,1,2],[-2,-1,0,1,2])\n",
    "plt.show()"
   ]
  },
  {
   "cell_type": "code",
   "execution_count": 58,
   "metadata": {},
   "outputs": [
    {
     "name": "stdout",
     "output_type": "stream",
     "text": [
      "A p Value 0.042670514434576035\n",
      " if the p value is less than the chosen alpha level, then the null hypothesis is rejected and there is evidence that the data tested are not normally distributed\n",
      "B p Value 0.09961479157209396\n",
      "if the p value is greater than the chosen alpha level, then the null hypothesis that the data came from a normally distributed population can not be rejected \n"
     ]
    }
   ],
   "source": [
    "#Gaussian Test\n",
    "from scipy.stats import shapiro\n",
    "def gaussiantest(data,startindex,endindex):\n",
    "    for i in range(startindex,endindex):\n",
    "        stat, p = shapiro(data.iloc[:,i])\n",
    "        print(data.columns.values[i]+ \" p Value \" + str(p))\n",
    "        alpha = 0.05\n",
    "        if p > alpha:\n",
    "            print('if the p value is greater than the chosen alpha level, then the null hypothesis that the data came from a normally distributed population can not be rejected ')\n",
    "        else:\n",
    "            print(' if the p value is less than the chosen alpha level, then the null hypothesis is rejected and there is evidence that the data tested are not normally distributed')\n",
    "\n",
    "gaussiantest(mydata,0,2)"
   ]
  }
 ],
 "metadata": {
  "kernelspec": {
   "display_name": "Python 3",
   "language": "python",
   "name": "python3"
  },
  "language_info": {
   "codemirror_mode": {
    "name": "ipython",
    "version": 3
   },
   "file_extension": ".py",
   "mimetype": "text/x-python",
   "name": "python",
   "nbconvert_exporter": "python",
   "pygments_lexer": "ipython3",
   "version": "3.7.3"
  }
 },
 "nbformat": 4,
 "nbformat_minor": 2
}
