{
 "cells": [
  {
   "cell_type": "code",
   "execution_count": 1,
   "metadata": {},
   "outputs": [],
   "source": [
    "import numpy as np\n",
    "import pandas as pd\n",
    "from scipy.stats import f\n",
    "import matplotlib.pyplot as plt \n",
    "%matplotlib inline\n",
    "import seaborn as sns\n",
    "import scipy.stats as stats\n",
    "from scipy.stats import ttest_1samp, ttest_ind, mannwhitneyu, levene, shapiro\n",
    "from statsmodels.stats.power import ttest_power"
   ]
  },
  {
   "cell_type": "code",
   "execution_count": 3,
   "metadata": {},
   "outputs": [
    {
     "data": {
      "text/plain": [
       "0     0.14\n",
       "1     0.15\n",
       "2     0.31\n",
       "3     0.16\n",
       "4     0.37\n",
       "5     0.18\n",
       "6     0.42\n",
       "7     0.58\n",
       "8     0.25\n",
       "9     0.41\n",
       "10    0.17\n",
       "11    0.13\n",
       "12    0.23\n",
       "13    0.11\n",
       "14    0.10\n",
       "15    0.19\n",
       "16    0.22\n",
       "17    0.44\n",
       "18    0.11\n",
       "19    0.11\n",
       "20    0.31\n",
       "21    0.43\n",
       "22    0.26\n",
       "23    0.18\n",
       "24    0.44\n",
       "25    0.43\n",
       "26    0.16\n",
       "27    0.52\n",
       "28    0.36\n",
       "29    0.22\n",
       "30    0.39\n",
       "31    0.00\n",
       "32    0.00\n",
       "33    0.00\n",
       "34    0.00\n",
       "35    0.00\n",
       "Name: B, dtype: float64"
      ]
     },
     "execution_count": 3,
     "metadata": {},
     "output_type": "execute_result"
    }
   ],
   "source": [
    "df = pd.read_csv('C:/Users/Thiyaneswaran_Manoha/Downloads/A+&+B+shingles.csv')\n",
    "df.head()\n",
    "df['B'].head(40)\n",
    "df['B'].fillna(0, inplace=True)\n",
    "df['B'].head(40)"
   ]
  },
  {
   "cell_type": "code",
   "execution_count": 4,
   "metadata": {},
   "outputs": [
    {
     "data": {
      "text/html": [
       "<div>\n",
       "<style scoped>\n",
       "    .dataframe tbody tr th:only-of-type {\n",
       "        vertical-align: middle;\n",
       "    }\n",
       "\n",
       "    .dataframe tbody tr th {\n",
       "        vertical-align: top;\n",
       "    }\n",
       "\n",
       "    .dataframe thead th {\n",
       "        text-align: right;\n",
       "    }\n",
       "</style>\n",
       "<table border=\"1\" class=\"dataframe\">\n",
       "  <thead>\n",
       "    <tr style=\"text-align: right;\">\n",
       "      <th></th>\n",
       "      <th>count</th>\n",
       "      <th>mean</th>\n",
       "      <th>std</th>\n",
       "      <th>min</th>\n",
       "      <th>25%</th>\n",
       "      <th>50%</th>\n",
       "      <th>75%</th>\n",
       "      <th>max</th>\n",
       "    </tr>\n",
       "  </thead>\n",
       "  <tbody>\n",
       "    <tr>\n",
       "      <th>A</th>\n",
       "      <td>36.0</td>\n",
       "      <td>0.316667</td>\n",
       "      <td>0.135731</td>\n",
       "      <td>0.13</td>\n",
       "      <td>0.2075</td>\n",
       "      <td>0.290</td>\n",
       "      <td>0.3925</td>\n",
       "      <td>0.72</td>\n",
       "    </tr>\n",
       "    <tr>\n",
       "      <th>B</th>\n",
       "      <td>36.0</td>\n",
       "      <td>0.235556</td>\n",
       "      <td>0.159256</td>\n",
       "      <td>0.00</td>\n",
       "      <td>0.1250</td>\n",
       "      <td>0.205</td>\n",
       "      <td>0.3750</td>\n",
       "      <td>0.58</td>\n",
       "    </tr>\n",
       "  </tbody>\n",
       "</table>\n",
       "</div>"
      ],
      "text/plain": [
       "   count      mean       std   min     25%    50%     75%   max\n",
       "A   36.0  0.316667  0.135731  0.13  0.2075  0.290  0.3925  0.72\n",
       "B   36.0  0.235556  0.159256  0.00  0.1250  0.205  0.3750  0.58"
      ]
     },
     "execution_count": 4,
     "metadata": {},
     "output_type": "execute_result"
    }
   ],
   "source": [
    "df.describe().T"
   ]
  },
  {
   "cell_type": "code",
   "execution_count": 5,
   "metadata": {},
   "outputs": [
    {
     "data": {
      "text/plain": [
       "A    0\n",
       "B    0\n",
       "dtype: int64"
      ]
     },
     "execution_count": 5,
     "metadata": {},
     "output_type": "execute_result"
    }
   ],
   "source": [
    "# Check for missing value in any colum\n",
    "df.isnull().sum()"
   ]
  },
  {
   "cell_type": "code",
   "execution_count": 6,
   "metadata": {},
   "outputs": [
    {
     "data": {
      "text/plain": [
       "array([[<matplotlib.axes._subplots.AxesSubplot object at 0x000001B2DC2C4668>,\n",
       "        <matplotlib.axes._subplots.AxesSubplot object at 0x000001B2DD5F09E8>]],\n",
       "      dtype=object)"
      ]
     },
     "execution_count": 6,
     "metadata": {},
     "output_type": "execute_result"
    },
    {
     "data": {
      "image/png": "[encoded data removed]",
      "text/plain": [
       "<Figure size 720x1080 with 2 Axes>"
      ]
     },
     "metadata": {
      "needs_background": "light"
     },
     "output_type": "display_data"
    }
   ],
   "source": [
    "df.hist(figsize=(10,15))"
   ]
  },
  {
   "cell_type": "code",
   "execution_count": 7,
   "metadata": {},
   "outputs": [
    {
     "data": {
      "text/plain": [
       "<matplotlib.axes._subplots.AxesSubplot at 0x1b2dda00978>"
      ]
     },
     "execution_count": 7,
     "metadata": {},
     "output_type": "execute_result"
    },
    {
     "data": {
      "image/png": "[encoded data removed]",
      "text/plain": [
       "<Figure size 432x288 with 1 Axes>"
      ]
     },
     "metadata": {
      "needs_background": "light"
     },
     "output_type": "display_data"
    }
   ],
   "source": [
    "df.boxplot()"
   ]
  },
  {
   "cell_type": "code",
   "execution_count": 9,
   "metadata": {},
   "outputs": [
    {
     "name": "stdout",
     "output_type": "stream",
     "text": [
      "1.9891039820394145 0.05455084074006934\n"
     ]
    }
   ],
   "source": [
    "#Both the samples seems to be normally distributed.\n",
    "\n",
    "#Mean and Median Values are little much different.\n",
    "\n",
    "#Based on Histogram plot, Both A & B are normally distributed based on mean. DataFrame of B is little right skewed.\n",
    "\n",
    "#Hypothesis Formulation\n",
    "\n",
    "#Use the T Test: Paired two Sample for Means: Where as Sigma(Population Std dev is unknown here)\n",
    "\n",
    "#Ho = Population Mean of A & B are equal\n",
    "\n",
    "#Ha = Population of Mean A & B are not equal\n",
    "\n",
    "# This follows two tailed test.\n",
    "\n",
    "t, p_value  = stats.ttest_rel(df['A'],df['B'])  #Performing a paired t-test\n",
    "\n",
    "print(t, p_value)"
   ]
  },
  {
   "cell_type": "code",
   "execution_count": 10,
   "metadata": {},
   "outputs": [
    {
     "data": {
      "text/plain": [
       "1.6991270265334977"
      ]
     },
     "execution_count": 10,
     "metadata": {},
     "output_type": "execute_result"
    }
   ],
   "source": [
    "#Conclusion\n",
    "#In this scenario, the p value is greater than the 0.05. \n",
    "#Hence accept the null hypothesis that the Population mean A & B are equal. (Fail to Reject Null Hypothesis)\n",
    "\n",
    "#If we compare the means of the two sample distributions, we see that even though visually it seems as if A scheme has fared better, statistically it does not hold.\n",
    "#The higher mean in the case of A can also be attributed to the higher variance compared to B.\n",
    "#The variance of the B data set, 0.024658025, is  more than the variance of the first data set, 0.017911111.\n",
    "#We are unsure of the sampling error present in the data.\n",
    "\n",
    "\n",
    "#The probability of a type 1 error?\n",
    "#The probability of a type 2 error?\n",
    "#The power of the test?\n",
    "#Type I error (𝜶): Probability of rejecting the null hypothesis when it is true. The probability of a Type I error in hypothesis testing is predetermined by the significance level.\n",
    "\n",
    "#Type II error (𝜷) : Probability of failing to reject null when it is false. Type II error calculation depends on the population mean which is unknown.\n",
    "\n",
    "#If alternate hypothesis 𝜇(New Scheme) – 𝜇(Old Scheme) = 𝜇𝑑 = 0.35(Population Mean) is true. What is the type I and II error.\n",
    "\n",
    "#Null Hypothesis = 𝜇(New Scheme) – 𝜇(Old Scheme) = 𝜇𝑑 = 0\n",
    "#First we need to calculate the probability of Type I error which is predetermined by significance level. If the significance level is 0.05,\n",
    "#then type I error is 0.05. i.e. 5% probability we make Type I error – rejecting null hypothesis when it is true.\n",
    "#Type II error calculation depends on a particular value of 𝜇. In this case lets assume difference of population 𝜇 is £5K. Lets also assume that the significance level for the test is 0.05. Then the calculation is as below :\n",
    "#This is a right tailed test\n",
    "\n",
    "from scipy.stats import t\n",
    "value = abs(t.ppf(0.05, 29))\n",
    "value\n"
   ]
  },
  {
   "cell_type": "code",
   "execution_count": 11,
   "metadata": {},
   "outputs": [
    {
     "data": {
      "text/plain": [
       "0.07587734"
      ]
     },
     "execution_count": 11,
     "metadata": {},
     "output_type": "execute_result"
    }
   ],
   "source": [
    "#We fail to reject the null hypothesis (commit a type II error) if we get a T-statistic less than 1.699127 for the sample size of 30\n",
    "\n",
    "#To begin with, we need to find the 𝐷̅ until we fail to reject the null hypothesis. Then we need to identify the probability of calculated 𝐷̅ appearing when the 𝜇𝑑 = £5000.\n",
    "\n",
    "#𝑡𝑠𝑡𝑎𝑡=(𝑑̅− 𝜇𝐷)/𝑆𝑑√𝑛\n",
    "\n",
    "#1.699=(d-0)/0.244666277/mt.sqrt(30)\n",
    "\n",
    "d=1.699*0.04466\n",
    "d"
   ]
  },
  {
   "cell_type": "code",
   "execution_count": 12,
   "metadata": {},
   "outputs": [
    {
     "data": {
      "text/plain": [
       "-6.137990595611285"
      ]
     },
     "execution_count": 12,
     "metadata": {},
     "output_type": "execute_result"
    }
   ],
   "source": [
    "#The above calculation states that we will incorrectly fail to reject the null hypothesis as long as we draw samples where the difference of mean is less than £4.37K.\n",
    "\n",
    "#Now given 𝜇old – 𝜇new = 0.35, we can compute the probability of drawing the sample mean difference lesser than 0.07587734 as follows:\n",
    "\n",
    "tstat=(0.07587734-0.35)/0.04466\n",
    "tstat"
   ]
  },
  {
   "cell_type": "code",
   "execution_count": 13,
   "metadata": {},
   "outputs": [
    {
     "data": {
      "text/plain": [
       "5.457775824149693e-07"
      ]
     },
     "execution_count": 13,
     "metadata": {},
     "output_type": "execute_result"
    }
   ],
   "source": [
    "#Probability of Type II Error\n",
    "p = t.cdf(-6.137990595611285, 29)\n",
    "p"
   ]
  },
  {
   "cell_type": "code",
   "execution_count": 14,
   "metadata": {},
   "outputs": [
    {
     "name": "stdout",
     "output_type": "stream",
     "text": [
      "Power of test is 0.9999994542224175\n"
     ]
    }
   ],
   "source": [
    "#Power of the Test:\n",
    "#Power of the hypothesis test is 1 minus the probability of Type II error. Basically the power of a test is the probability that we make the right decision when the null is not correct (i.e. we correctly reject it)\n",
    "\n",
    "print(\"Power of test is\", 1- p )"
   ]
  },
  {
   "cell_type": "code",
   "execution_count": 15,
   "metadata": {},
   "outputs": [
    {
     "data": {
      "text/plain": [
       "87.2626041764615"
      ]
     },
     "execution_count": 15,
     "metadata": {},
     "output_type": "execute_result"
    }
   ],
   "source": [
    "#What sample size would make the probabilities of type 1 and type 2 errors equal?\n",
    "#Let us assume we need Type 1 error and Type 2 error equal to .05\n",
    "\n",
    "#Assuming sample standard deviation is equal to population standard deviation, we can calculate sample size needed as below :\n",
    "\n",
    "#Null hypothesis mean difference (M0) is 0\n",
    "#Alternative hypothesis mean difference (Ma) is 0.35\n",
    "#Sample standard Deviation is 0.244666277\n",
    "#Alpha value is 0.05\n",
    "#Beta value is 0.05 i.e. power of test is 0.95 = 95%\n",
    "#Sample Size calculation :\n",
    "\n",
    "import statsmodels.stats.power as smp\n",
    "smp.tt_ind_solve_power(effect_size=0.5, nobs1=None, alpha=0.05, power=0.95, ratio=1.0, alternative='larger')"
   ]
  },
  {
   "cell_type": "code",
   "execution_count": null,
   "metadata": {},
   "outputs": [],
   "source": [
    "#Hence, in order to retain the power, we need to round the value to next whole number. therefore, we may conclude that we need a sample size of 88 to get the Type I and Type II Errors equal\n",
    "#However, our recommendation is that the test be carried out with a larger sample size to improve the accuracy of test result."
   ]
  }
 ],
 "metadata": {
  "kernelspec": {
   "display_name": "Python 3",
   "language": "python",
   "name": "python3"
  },
  "language_info": {
   "codemirror_mode": {
    "name": "ipython",
    "version": 3
   },
   "file_extension": ".py",
   "mimetype": "text/x-python",
   "name": "python",
   "nbconvert_exporter": "python",
   "pygments_lexer": "ipython3",
   "version": "3.7.3"
  }
 },
 "nbformat": 4,
 "nbformat_minor": 2
}
