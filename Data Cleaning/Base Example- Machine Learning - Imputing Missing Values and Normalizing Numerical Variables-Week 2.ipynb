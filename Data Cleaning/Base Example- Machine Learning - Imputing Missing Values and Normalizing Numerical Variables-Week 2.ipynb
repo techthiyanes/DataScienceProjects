{
 "cells": [
  {
   "cell_type": "code",
   "execution_count": null,
   "metadata": {},
   "outputs": [],
   "source": [
    "#########################################################################\n",
    "##BASE Level Model for Machine Learning with imputing and Normalization\n",
    "#########################################################################"
   ]
  },
  {
   "cell_type": "code",
   "execution_count": 1,
   "metadata": {
    "colab": {},
    "colab_type": "code",
    "id": "9W0rdi2tw5FG"
   },
   "outputs": [],
   "source": [
    "import numpy as np\n",
    "import pandas as pd  \n",
    "import matplotlib.pyplot as plt   \n",
    "import seaborn as sns\n",
    "%matplotlib inline "
   ]
  },
  {
   "cell_type": "code",
   "execution_count": 2,
   "metadata": {
    "colab": {},
    "colab_type": "code",
    "id": "qlyU1wKMw5FJ"
   },
   "outputs": [],
   "source": [
    "import warnings\n",
    "warnings.filterwarnings('ignore')"
   ]
  },
  {
   "cell_type": "code",
   "execution_count": 45,
   "metadata": {},
   "outputs": [],
   "source": [
    "baseClass = pd.read_csv(\"C:\\\\Users\\\\Vinit Thakur\\\\Desktop\\\\BaseExample.csv\") "
   ]
  },
  {
   "cell_type": "code",
   "execution_count": 46,
   "metadata": {},
   "outputs": [],
   "source": [
    "baseClass=base.dropna(subset=['smoke'])"
   ]
  },
  {
   "cell_type": "code",
   "execution_count": 47,
   "metadata": {},
   "outputs": [
    {
     "name": "stdout",
     "output_type": "stream",
     "text": [
      "<class 'pandas.core.frame.DataFrame'>\n",
      "Int64Index: 1997 entries, 0 to 1999\n",
      "Data columns (total 12 columns):\n",
      "sex         1997 non-null object\n",
      "age         1997 non-null int64\n",
      "edu         1997 non-null object\n",
      "unempdur    1380 non-null float64\n",
      "income      1492 non-null float64\n",
      "marital     1995 non-null object\n",
      "sport       1981 non-null object\n",
      "smoke       1997 non-null object\n",
      "alcabuse    1995 non-null object\n",
      "workab      1818 non-null object\n",
      "englang     1993 non-null object\n",
      "bmi         1968 non-null float64\n",
      "dtypes: float64(3), int64(1), object(8)\n",
      "memory usage: 202.8+ KB\n"
     ]
    }
   ],
   "source": [
    "baseClass.info()"
   ]
  },
  {
   "cell_type": "code",
   "execution_count": 48,
   "metadata": {},
   "outputs": [],
   "source": [
    "baseClass['marital'].fillna(baseClass['marital'].mode()[0], inplace=True)\n",
    "baseClass['alcabuse'].fillna(baseClass['alcabuse'].mode()[0], inplace=True)\n",
    "baseClass['workab'].fillna(baseClass['workab'].mode()[0], inplace=True)\n",
    "baseClass['englang'].fillna(baseClass['englang'].mode()[0], inplace=True)\n",
    "baseClass['sport'].fillna(baseClass['sport'].mode()[0], inplace=True)\n",
    "baseClass['unempdur'].fillna(baseClass['unempdur'].mean(), inplace=True)\n",
    "baseClass['bmi'].fillna(baseClass['bmi'].mean(), inplace=True)\n",
    "baseClass['income'].fillna(baseClass['income'].mean(), inplace=True)"
   ]
  },
  {
   "cell_type": "code",
   "execution_count": 50,
   "metadata": {},
   "outputs": [],
   "source": [
    "x = baseClass.drop(columns=['smoke'])\n",
    "y = baseClass['smoke']"
   ]
  },
  {
   "cell_type": "code",
   "execution_count": 51,
   "metadata": {},
   "outputs": [],
   "source": [
    "x = pd.get_dummies(x, prefix_sep='_', drop_first=True)"
   ]
  },
  {
   "cell_type": "code",
   "execution_count": 52,
   "metadata": {},
   "outputs": [],
   "source": [
    "# Split X and y into training and test set in 70:30 ratio\n",
    "from sklearn.model_selection import train_test_split\n",
    "x_train, x_test, y_train, y_test = train_test_split(x, y, test_size=0.30, random_state=1)"
   ]
  },
  {
   "cell_type": "code",
   "execution_count": 53,
   "metadata": {},
   "outputs": [],
   "source": [
    "from sklearn.naive_bayes import GaussianNB\n",
    "from sklearn import metrics"
   ]
  },
  {
   "cell_type": "code",
   "execution_count": 72,
   "metadata": {},
   "outputs": [
    {
     "name": "stdout",
     "output_type": "stream",
     "text": [
      "0.7016666666666667\n",
      "[[393  39]\n",
      " [140  28]]\n"
     ]
    }
   ],
   "source": [
    "# Invoking the NB Gaussian function to create the model\n",
    "# fitting the model in the training data set\n",
    "model = GaussianNB()\n",
    "model.fit(x_train, y_train)\n",
    "y_predict = model.predict(x_test)\n",
    "model_score = model.score(x_test, y_test)\n",
    "print(model_score)\n",
    "print(metrics.confusion_matrix(y_test, y_predict))"
   ]
  },
  {
   "cell_type": "code",
   "execution_count": 56,
   "metadata": {},
   "outputs": [],
   "source": [
    "from sklearn.linear_model import LogisticRegression"
   ]
  },
  {
   "cell_type": "code",
   "execution_count": 57,
   "metadata": {},
   "outputs": [
    {
     "name": "stdout",
     "output_type": "stream",
     "text": [
      "0.72\n",
      "[[416  16]\n",
      " [152  16]]\n"
     ]
    }
   ],
   "source": [
    "model = LogisticRegression()\n",
    "model.fit(x_train, y_train)\n",
    "y_predict = model.predict(x_test)\n",
    "model_score = model.score(x_test, y_test)\n",
    "print(model_score)\n",
    "print(metrics.confusion_matrix(y_test, y_predict))"
   ]
  },
  {
   "cell_type": "code",
   "execution_count": 58,
   "metadata": {},
   "outputs": [],
   "source": [
    "from sklearn import tree\n",
    "\n",
    "\n",
    "clf = tree.DecisionTreeClassifier()\n",
    "clf = clf.fit(x_train, y_train)"
   ]
  },
  {
   "cell_type": "code",
   "execution_count": 59,
   "metadata": {},
   "outputs": [
    {
     "name": "stdout",
     "output_type": "stream",
     "text": [
      "0.7\n",
      "[[343  89]\n",
      " [ 91  77]]\n"
     ]
    }
   ],
   "source": [
    "y_predict = clf.predict(x_test)\n",
    "model_score = clf.score(x_test, y_test)\n",
    "print(model_score)\n",
    "print(metrics.confusion_matrix(y_test, y_predict))"
   ]
  },
  {
   "cell_type": "code",
   "execution_count": 63,
   "metadata": {},
   "outputs": [],
   "source": [
    "#Import Random Forest Model\n",
    "from sklearn.ensemble import RandomForestClassifier\n",
    "\n",
    "#Create a Gaussian Classifier\n",
    "clfRF=RandomForestClassifier(n_estimators=100)\n",
    "\n",
    "#Train the model using the training sets y_pred=clf.predict(X_test)\n",
    "clfRF.fit(x_train,y_train)\n",
    "\n",
    "y_pred=clfRF.predict(x_test)\n",
    "model_scoreRF = clfRF.score(x_test, y_test)"
   ]
  },
  {
   "cell_type": "code",
   "execution_count": 64,
   "metadata": {},
   "outputs": [
    {
     "name": "stdout",
     "output_type": "stream",
     "text": [
      "0.7466666666666667\n",
      "[[401  31]\n",
      " [121  47]]\n"
     ]
    }
   ],
   "source": [
    "print(model_scoreRF)\n",
    "print(metrics.confusion_matrix(y_test, y_pred))"
   ]
  },
  {
   "cell_type": "code",
   "execution_count": 65,
   "metadata": {},
   "outputs": [
    {
     "name": "stdout",
     "output_type": "stream",
     "text": [
      "0.7183333333333334\n",
      "[[418  14]\n",
      " [155  13]]\n"
     ]
    }
   ],
   "source": [
    "from sklearn import svm\n",
    "\n",
    "clfSVM = svm.SVC()\n",
    "clfSVM.fit(x_train, y_train)\n",
    "y_pred=clfSVM.predict(x_test)\n",
    "model_scoreSVM = clfSVM.score(x_test, y_test)\n",
    "print(model_scoreSVM)\n",
    "print(metrics.confusion_matrix(y_test, y_pred))\n"
   ]
  },
  {
   "cell_type": "code",
   "execution_count": 68,
   "metadata": {},
   "outputs": [
    {
     "name": "stdout",
     "output_type": "stream",
     "text": [
      "0.7183333333333334\n",
      "[[415  17]\n",
      " [152  16]]\n"
     ]
    }
   ],
   "source": [
    "from sklearn.discriminant_analysis import LinearDiscriminantAnalysis\n",
    "clfLDA = LinearDiscriminantAnalysis()\n",
    "clfLDA.fit(x_train, y_train)\n",
    "y_pred=clfLDA.predict(x_test)\n",
    "model_scoreLDA = clfLDA.score(x_test, y_test)\n",
    "print(model_scoreLDA)\n",
    "print(metrics.confusion_matrix(y_test, y_pred))"
   ]
  },
  {
   "cell_type": "code",
   "execution_count": 69,
   "metadata": {},
   "outputs": [
    {
     "name": "stdout",
     "output_type": "stream",
     "text": [
      "0.75\n",
      "[[405  27]\n",
      " [123  45]]\n"
     ]
    }
   ],
   "source": [
    "from sklearn.ensemble import AdaBoostClassifier\n",
    "\n",
    "\n",
    "clfADB = AdaBoostClassifier(n_estimators=100)\n",
    "clfADB.fit(x_train,y_train)\n",
    "y_pred=clfADB.predict(x_test)\n",
    "model_scoreADB = clfADB.score(x_test, y_test)\n",
    "print(model_scoreADB)\n",
    "print(metrics.confusion_matrix(y_test, y_pred))"
   ]
  },
  {
   "cell_type": "code",
   "execution_count": 70,
   "metadata": {},
   "outputs": [
    {
     "name": "stdout",
     "output_type": "stream",
     "text": [
      "0.71\n",
      "[[387  45]\n",
      " [129  39]]\n"
     ]
    }
   ],
   "source": [
    "from sklearn.neighbors import KNeighborsClassifier\n",
    "\n",
    "clfKNN=KNeighborsClassifier()\n",
    "clfKNN.fit(x_train,y_train)\n",
    "y_pred=clfKNN.predict(x_test)\n",
    "model_scoreKNN = clfKNN.score(x_test, y_test)\n",
    "print(model_scoreKNN)\n",
    "print(metrics.confusion_matrix(y_test, y_pred))"
   ]
  },
  {
   "cell_type": "code",
   "execution_count": 71,
   "metadata": {},
   "outputs": [
    {
     "name": "stdout",
     "output_type": "stream",
     "text": [
      "0.715\n",
      "[[413  19]\n",
      " [152  16]]\n"
     ]
    }
   ],
   "source": [
    "import xgboost as xgb\n",
    "clfXGB=xgb.XGBClassifier(random_state=1,learning_rate=0.01)\n",
    "clfXGB.fit(x_train, y_train)\n",
    "y_pred=clfXGB.predict(x_test)\n",
    "model_scoreXGB=clfXGB.score(x_test,y_test)\n",
    "print(model_scoreXGB)\n",
    "print(metrics.confusion_matrix(y_test,y_pred))"
   ]
  },
  {
   "cell_type": "code",
   "execution_count": 74,
   "metadata": {},
   "outputs": [
    {
     "data": {
      "text/plain": [
       "array([0.77142857, 0.76428571, 0.77857143, 0.75714286, 0.76428571,\n",
       "       0.77857143, 0.73571429, 0.75714286, 0.79136691, 0.7173913 ])"
      ]
     },
     "execution_count": 74,
     "metadata": {},
     "output_type": "execute_result"
    }
   ],
   "source": [
    "from sklearn.model_selection import cross_val_score\n",
    "clfCVRF = RandomForestClassifier(n_estimators=100)\n",
    "scores = cross_val_score(clfCVRF, x_train, y_train, cv=10)\n",
    "scores\n"
   ]
  }
 ],
 "metadata": {
  "colab": {
   "collapsed_sections": [
    "XmrI34z1w5JE"
   ],
   "name": "Lab1_CVfeatureSelectionCar-SFS.ipynb",
   "provenance": []
  },
  "kernelspec": {
   "display_name": "Python 3",
   "language": "python",
   "name": "python3"
  },
  "language_info": {
   "codemirror_mode": {
    "name": "ipython",
    "version": 3
   },
   "file_extension": ".py",
   "mimetype": "text/x-python",
   "name": "python",
   "nbconvert_exporter": "python",
   "pygments_lexer": "ipython3",
   "version": "3.7.0"
  },
  "toc": {
   "base_numbering": 1,
   "nav_menu": {},
   "number_sections": true,
   "sideBar": true,
   "skip_h1_title": false,
   "title_cell": "Table of Contents",
   "title_sidebar": "Contents",
   "toc_cell": false,
   "toc_position": {},
   "toc_section_display": true,
   "toc_window_display": false
  },
  "varInspector": {
   "cols": {
    "lenName": 16,
    "lenType": 16,
    "lenVar": 40
   },
   "kernels_config": {
    "python": {
     "delete_cmd_postfix": "",
     "delete_cmd_prefix": "del ",
     "library": "var_list.py",
     "varRefreshCmd": "print(var_dic_list())"
    },
    "r": {
     "delete_cmd_postfix": ") ",
     "delete_cmd_prefix": "rm(",
     "library": "var_list.r",
     "varRefreshCmd": "cat(var_dic_list()) "
    }
   },
   "types_to_exclude": [
    "module",
    "function",
    "builtin_function_or_method",
    "instance",
    "_Feature"
   ],
   "window_display": false
  }
 },
 "nbformat": 4,
 "nbformat_minor": 1
}
